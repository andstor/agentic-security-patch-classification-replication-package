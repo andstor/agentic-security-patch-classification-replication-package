{
 "cells": [
  {
   "cell_type": "code",
   "execution_count": 4,
   "id": "2a6d81e1-2f07-4298-8c07-61a9e398c3dd",
   "metadata": {},
   "outputs": [],
   "source": [
    "import os\n",
    "import pandas as pd\n",
    "from sklearn.feature_extraction.text import TfidfVectorizer\n",
    "from sklearn.metrics.pairwise import cosine_similarity\n",
    "from tqdm import tqdm\n",
    "import gc\n",
    "import multiprocessing as mp\n",
    "from tqdm import tqdm\n",
    "from datasets import load_dataset\n",
    "import polars as pl\n",
    "import pandas as pd\n",
    "import re\n"
   ]
  },
  {
   "cell_type": "code",
   "execution_count": 5,
   "id": "2debeaf5-66d3-491a-9db1-bc741180b6db",
   "metadata": {},
   "outputs": [
    {
     "name": "stderr",
     "output_type": "stream",
     "text": [
      "[nltk_data] Downloading package punkt_tab to\n",
      "[nltk_data]     /cluster/home/andstorh/nltk_data...\n",
      "[nltk_data]   Package punkt_tab is already up-to-date!\n"
     ]
    }
   ],
   "source": [
    "import nltk\n",
    "nltk.download('punkt_tab')\n",
    "\n",
    "from nltk import word_tokenize\n"
   ]
  },
  {
   "cell_type": "code",
   "execution_count": 6,
   "id": "d2fe1d38-6e0f-4d82-a079-b772082a979c",
   "metadata": {},
   "outputs": [],
   "source": [
    "DATA_DIR = '../../../data/baselines/PatchFinder'"
   ]
  },
  {
   "cell_type": "code",
   "execution_count": 7,
   "id": "60e451b3-e48c-42f3-b8f4-b61dac2e84ad",
   "metadata": {},
   "outputs": [
    {
     "data": {
      "application/vnd.jupyter.widget-view+json": {
       "model_id": "0391487ac78242c88bf67675c37456ce",
       "version_major": 2,
       "version_minor": 0
      },
      "text/plain": [
       "Resolving data files:   0%|          | 0/140 [00:00<?, ?it/s]"
      ]
     },
     "metadata": {},
     "output_type": "display_data"
    },
    {
     "data": {
      "application/vnd.jupyter.widget-view+json": {
       "model_id": "2b068b190a474a378db0ccbae3db5821",
       "version_major": 2,
       "version_minor": 0
      },
      "text/plain": [
       "Resolving data files:   0%|          | 0/83 [00:00<?, ?it/s]"
      ]
     },
     "metadata": {},
     "output_type": "display_data"
    },
    {
     "data": {
      "application/vnd.jupyter.widget-view+json": {
       "model_id": "ff980f9b1b03479bac3c5c9d7bad37f4",
       "version_major": 2,
       "version_minor": 0
      },
      "text/plain": [
       "Resolving data files:   0%|          | 0/96 [00:00<?, ?it/s]"
      ]
     },
     "metadata": {},
     "output_type": "display_data"
    },
    {
     "data": {
      "application/vnd.jupyter.widget-view+json": {
       "model_id": "4ea9bbb4686e4bddb0bf7f5099751235",
       "version_major": 2,
       "version_minor": 0
      },
      "text/plain": [
       "Resolving data files:   0%|          | 0/140 [00:00<?, ?it/s]"
      ]
     },
     "metadata": {},
     "output_type": "display_data"
    },
    {
     "data": {
      "application/vnd.jupyter.widget-view+json": {
       "model_id": "d7329553364f42b791c158fa80fcc8c5",
       "version_major": 2,
       "version_minor": 0
      },
      "text/plain": [
       "Resolving data files:   0%|          | 0/83 [00:00<?, ?it/s]"
      ]
     },
     "metadata": {},
     "output_type": "display_data"
    },
    {
     "data": {
      "application/vnd.jupyter.widget-view+json": {
       "model_id": "80efde65141f4d0fbc03060f35021f83",
       "version_major": 2,
       "version_minor": 0
      },
      "text/plain": [
       "Resolving data files:   0%|          | 0/96 [00:00<?, ?it/s]"
      ]
     },
     "metadata": {},
     "output_type": "display_data"
    },
    {
     "data": {
      "application/vnd.jupyter.widget-view+json": {
       "model_id": "390f717aafaa465aacedb1bbb9d5da47",
       "version_major": 2,
       "version_minor": 0
      },
      "text/plain": [
       "Resolving data files:   0%|          | 0/140 [00:00<?, ?it/s]"
      ]
     },
     "metadata": {},
     "output_type": "display_data"
    },
    {
     "data": {
      "application/vnd.jupyter.widget-view+json": {
       "model_id": "d43d4ad8161c4d22a229de92353ea748",
       "version_major": 2,
       "version_minor": 0
      },
      "text/plain": [
       "Resolving data files:   0%|          | 0/83 [00:00<?, ?it/s]"
      ]
     },
     "metadata": {},
     "output_type": "display_data"
    },
    {
     "data": {
      "application/vnd.jupyter.widget-view+json": {
       "model_id": "989be560758f48b29e0f37eca0fb1a6e",
       "version_major": 2,
       "version_minor": 0
      },
      "text/plain": [
       "Resolving data files:   0%|          | 0/96 [00:00<?, ?it/s]"
      ]
     },
     "metadata": {},
     "output_type": "display_data"
    },
    {
     "data": {
      "application/vnd.jupyter.widget-view+json": {
       "model_id": "0b9686991350400fb6f3633f79df39fe",
       "version_major": 2,
       "version_minor": 0
      },
      "text/plain": [
       "Loading dataset shards:   0%|          | 0/79 [00:00<?, ?it/s]"
      ]
     },
     "metadata": {},
     "output_type": "display_data"
    },
    {
     "data": {
      "application/vnd.jupyter.widget-view+json": {
       "model_id": "451d0ac54be843c9ad09aa471559bf80",
       "version_major": 2,
       "version_minor": 0
      },
      "text/plain": [
       "Loading dataset shards:   0%|          | 0/52 [00:00<?, ?it/s]"
      ]
     },
     "metadata": {},
     "output_type": "display_data"
    },
    {
     "data": {
      "application/vnd.jupyter.widget-view+json": {
       "model_id": "b283ed84268f4ee4ab09bebea2bbbd50",
       "version_major": 2,
       "version_minor": 0
      },
      "text/plain": [
       "Loading dataset shards:   0%|          | 0/58 [00:00<?, ?it/s]"
      ]
     },
     "metadata": {},
     "output_type": "display_data"
    }
   ],
   "source": [
    "ds_cve = load_dataset('fals3/cvevc_cve')\n",
    "ds_patches = load_dataset('fals3/cvevc_commits', \"patches\")\n",
    "ds_nonpatches = load_dataset('fals3/cvevc_commits', \"non_patches\")"
   ]
  },
  {
   "cell_type": "code",
   "execution_count": 8,
   "id": "7e7e5827-6e13-4cea-8e0b-f3e3073505db",
   "metadata": {},
   "outputs": [],
   "source": [
    "import re\n",
    "\n",
    "def convert_to_unified_0(diff: str) -> str:\n",
    "    \"\"\"\n",
    "    Takes a git diff string and returns a version equivalent to `git diff --unified=0`.\n",
    "    \"\"\"\n",
    "    output_lines = []\n",
    "    diff_lines = diff.splitlines()\n",
    "    \n",
    "    inside_diff = False\n",
    "    \n",
    "    for line in diff_lines:\n",
    "        if line.startswith(\"diff --git\") or line.startswith(\"index\") or line.startswith(\"---\") or line.startswith(\"+++\"):\n",
    "            output_lines.append(line)\n",
    "        elif line.startswith(\"@@\"):\n",
    "            inside_diff = True\n",
    "            # Extract hunk header and modify it to show 0 lines of context\n",
    "            match = re.match(r\"@@ -(\\d+),?(\\d*) \\+(\\d+),?(\\d*) @@\", line)\n",
    "            if match:\n",
    "                old_start, old_count, new_start, new_count = match.groups()\n",
    "                old_count = int(old_count) if old_count else 1\n",
    "                new_count = int(new_count) if new_count else 1\n",
    "                output_lines.append(f\"@@ -{old_start},0 +{new_start},0 @@\")\n",
    "            else:\n",
    "                output_lines.append(line)\n",
    "        elif inside_diff:\n",
    "            if line.startswith(\"+\") or line.startswith(\"-\"):\n",
    "                output_lines.append(line)\n",
    "        else:\n",
    "            output_lines.append(line)\n",
    "    \n",
    "    return \"\\n\".join(output_lines)"
   ]
  },
  {
   "cell_type": "code",
   "execution_count": 9,
   "id": "af15f6f1-c684-4479-8b96-1b1967faae20",
   "metadata": {
    "editable": true,
    "slideshow": {
     "slide_type": ""
    },
    "tags": []
   },
   "outputs": [],
   "source": [
    "import re\n",
    "\n",
    "def format_git_show_minimal(git_show_string):\n",
    "    \"\"\"\n",
    "    Robustly extracts diff content starting from the first '@@' line for each file, including the 'diff --git' line.\n",
    "\n",
    "    Args:\n",
    "        git_show_string: The git show diff string with potentially multiple file diffs.\n",
    "\n",
    "    Returns:\n",
    "        The extracted diff content, or an empty string if no diff is found.\n",
    "    \"\"\"\n",
    "    lines = git_show_string.splitlines()\n",
    "    result_diffs = []\n",
    "    current_diff = []\n",
    "    at_at_found = False\n",
    "\n",
    "    for line in lines:\n",
    "        if line.startswith(\"diff --git\"):\n",
    "            if current_diff:  # Store the previous diff if any\n",
    "                result_diffs.append(\"\\n\".join(current_diff))\n",
    "            current_diff = [line]  # Start a new diff\n",
    "            at_at_found = False\n",
    "        elif current_diff:\n",
    "            if line.startswith(\"@@\"):\n",
    "                at_at_found = True\n",
    "                current_diff.append(line)\n",
    "            elif at_at_found:\n",
    "                current_diff.append(line)\n",
    "\n",
    "    if current_diff:  # Store the last diff\n",
    "        result_diffs.append(\"\\n\".join(current_diff))\n",
    "\n",
    "    return \"\\n\".join(result_diffs).strip()\n"
   ]
  },
  {
   "cell_type": "code",
   "execution_count": 11,
   "id": "21fd02f6-edd8-4819-88f8-70c0e6254002",
   "metadata": {},
   "outputs": [],
   "source": [
    "num_cpus = 20"
   ]
  },
  {
   "cell_type": "code",
   "execution_count": 20,
   "id": "e0a9cbec-fd67-4e28-b9ed-0b121dfc34b2",
   "metadata": {},
   "outputs": [
    {
     "data": {
      "text/plain": [
       "DatasetDict({\n",
       "    train: Dataset({\n",
       "        features: ['cve', 'published_date', 'desc', 'commit_urls', 'commits', 'desc_token'],\n",
       "        num_rows: 8963\n",
       "    })\n",
       "    test: Dataset({\n",
       "        features: ['cve', 'published_date', 'desc', 'commit_urls', 'commits', 'desc_token'],\n",
       "        num_rows: 1366\n",
       "    })\n",
       "    validation: Dataset({\n",
       "        features: ['cve', 'published_date', 'desc', 'commit_urls', 'commits', 'desc_token'],\n",
       "        num_rows: 1607\n",
       "    })\n",
       "})"
      ]
     },
     "execution_count": 20,
     "metadata": {},
     "output_type": "execute_result"
    }
   ],
   "source": [
    "ds_cve = ds_cve.map(lambda x: {\"desc_token\": ' '.join(word_tokenize(x[\"desc\"]))}, batched=False, num_proc=num_cpus)\n",
    "ds_cve"
   ]
  },
  {
   "cell_type": "code",
   "execution_count": 21,
   "id": "7f4e3d4d-0a42-44a9-868d-f2f429f72325",
   "metadata": {},
   "outputs": [
    {
     "data": {
      "application/vnd.jupyter.widget-view+json": {
       "model_id": "15454584615342208c235c4ca7851d75",
       "version_major": 2,
       "version_minor": 0
      },
      "text/plain": [
       "Saving the dataset (0/1 shards):   0%|          | 0/8963 [00:00<?, ? examples/s]"
      ]
     },
     "metadata": {},
     "output_type": "display_data"
    },
    {
     "data": {
      "application/vnd.jupyter.widget-view+json": {
       "model_id": "0020a2e9fdcf4770aef3f5c9d3b07bf7",
       "version_major": 2,
       "version_minor": 0
      },
      "text/plain": [
       "Saving the dataset (0/1 shards):   0%|          | 0/1366 [00:00<?, ? examples/s]"
      ]
     },
     "metadata": {},
     "output_type": "display_data"
    },
    {
     "data": {
      "application/vnd.jupyter.widget-view+json": {
       "model_id": "61b89d2822da4df2b05f58d5223be45b",
       "version_major": 2,
       "version_minor": 0
      },
      "text/plain": [
       "Saving the dataset (0/1 shards):   0%|          | 0/1607 [00:00<?, ? examples/s]"
      ]
     },
     "metadata": {},
     "output_type": "display_data"
    }
   ],
   "source": [
    "ds_cve.save_to_disk(\"tmp/ds_cve\")"
   ]
  },
  {
   "cell_type": "code",
   "execution_count": 13,
   "id": "71dee635-b36e-46d9-a6aa-4b864be7a1b0",
   "metadata": {},
   "outputs": [
    {
     "data": {
      "application/vnd.jupyter.widget-view+json": {
       "model_id": "e405ac71452e463d9fc5d6825a01114f",
       "version_major": 2,
       "version_minor": 0
      },
      "text/plain": [
       "Map (num_proc=20):   0%|          | 0/11620 [00:00<?, ? examples/s]"
      ]
     },
     "metadata": {},
     "output_type": "display_data"
    },
    {
     "data": {
      "application/vnd.jupyter.widget-view+json": {
       "model_id": "91dd51aa0252467d962eda44e243057c",
       "version_major": 2,
       "version_minor": 0
      },
      "text/plain": [
       "Map (num_proc=20):   0%|          | 0/1453 [00:00<?, ? examples/s]"
      ]
     },
     "metadata": {},
     "output_type": "display_data"
    },
    {
     "data": {
      "application/vnd.jupyter.widget-view+json": {
       "model_id": "bdfd44ef5e364de58da55b08f29babc1",
       "version_major": 2,
       "version_minor": 0
      },
      "text/plain": [
       "Map (num_proc=20):   0%|          | 0/1453 [00:00<?, ? examples/s]"
      ]
     },
     "metadata": {},
     "output_type": "display_data"
    }
   ],
   "source": [
    "ds_patches = ds_patches.map(lambda x: {\"diff_token\": \n",
    "                                            ' '.join(word_tokenize(\n",
    "                                                ''.join(format_git_show_minimal(\n",
    "                                                    convert_to_unified_0(\n",
    "                                                       x[\"diff\"]\n",
    "                                                    )\n",
    "                                               ).splitlines(keepends=True)[:1000])\n",
    "                                           )),\n",
    "                                       \"msg_token\": ' '.join(word_tokenize(x[\"commit_message\"]))\n",
    "                                      }, batched=False, num_proc=num_cpus)"
   ]
  },
  {
   "cell_type": "code",
   "execution_count": 14,
   "id": "67708e11-c3e8-4cf3-adfe-55d5e3b644fd",
   "metadata": {},
   "outputs": [
    {
     "data": {
      "text/plain": [
       "DatasetDict({\n",
       "    train: Dataset({\n",
       "        features: ['commit_id', 'repo', 'label', 'diff_token', 'msg_token'],\n",
       "        num_rows: 11620\n",
       "    })\n",
       "    test: Dataset({\n",
       "        features: ['commit_id', 'repo', 'label', 'diff_token', 'msg_token'],\n",
       "        num_rows: 1453\n",
       "    })\n",
       "    validation: Dataset({\n",
       "        features: ['commit_id', 'repo', 'label', 'diff_token', 'msg_token'],\n",
       "        num_rows: 1453\n",
       "    })\n",
       "})"
      ]
     },
     "execution_count": 14,
     "metadata": {},
     "output_type": "execute_result"
    }
   ],
   "source": [
    "ds_patches = ds_patches.remove_columns([\"commit_message\", \"diff\"])\n",
    "ds_patches"
   ]
  },
  {
   "cell_type": "code",
   "execution_count": 15,
   "id": "d97da2ee-b275-482d-873b-e83e2a15c4c9",
   "metadata": {},
   "outputs": [
    {
     "data": {
      "application/vnd.jupyter.widget-view+json": {
       "model_id": "f14b063549334606902546e8d11c1dde",
       "version_major": 2,
       "version_minor": 0
      },
      "text/plain": [
       "Saving the dataset (0/1 shards):   0%|          | 0/11620 [00:00<?, ? examples/s]"
      ]
     },
     "metadata": {},
     "output_type": "display_data"
    },
    {
     "data": {
      "application/vnd.jupyter.widget-view+json": {
       "model_id": "9cb7d78d500642ec8ba0cec24cf8e5f5",
       "version_major": 2,
       "version_minor": 0
      },
      "text/plain": [
       "Saving the dataset (0/1 shards):   0%|          | 0/1453 [00:00<?, ? examples/s]"
      ]
     },
     "metadata": {},
     "output_type": "display_data"
    },
    {
     "data": {
      "application/vnd.jupyter.widget-view+json": {
       "model_id": "13a0959a144645358a56180e3081d4fd",
       "version_major": 2,
       "version_minor": 0
      },
      "text/plain": [
       "Saving the dataset (0/1 shards):   0%|          | 0/1453 [00:00<?, ? examples/s]"
      ]
     },
     "metadata": {},
     "output_type": "display_data"
    }
   ],
   "source": [
    "ds_patches.save_to_disk(\"tmp/ds_patches\")"
   ]
  },
  {
   "cell_type": "code",
   "execution_count": 16,
   "id": "19d3d13b-7861-4d0d-9801-fff6dbeb0e07",
   "metadata": {},
   "outputs": [
    {
     "data": {
      "application/vnd.jupyter.widget-view+json": {
       "model_id": "221072575eec4e49a4a0638060ffec17",
       "version_major": 2,
       "version_minor": 0
      },
      "text/plain": [
       "Map (num_proc=20):   0%|          | 0/3632163 [00:00<?, ? examples/s]"
      ]
     },
     "metadata": {},
     "output_type": "display_data"
    },
    {
     "data": {
      "application/vnd.jupyter.widget-view+json": {
       "model_id": "bee7c39126024605b79c9c03aa3d7af3",
       "version_major": 2,
       "version_minor": 0
      },
      "text/plain": [
       "Map (num_proc=20):   0%|          | 0/2150904 [00:00<?, ? examples/s]"
      ]
     },
     "metadata": {},
     "output_type": "display_data"
    },
    {
     "data": {
      "application/vnd.jupyter.widget-view+json": {
       "model_id": "70f999e4378c41499b11f3991511ae2a",
       "version_major": 2,
       "version_minor": 0
      },
      "text/plain": [
       "Map (num_proc=20):   0%|          | 0/2485831 [00:00<?, ? examples/s]"
      ]
     },
     "metadata": {},
     "output_type": "display_data"
    }
   ],
   "source": [
    "ds_nonpatches = ds_nonpatches.map(lambda x: {\"diff_token\": \n",
    "                                                  ' '.join(word_tokenize(\n",
    "                                                      \"\".join(format_git_show_minimal(\n",
    "                                                          convert_to_unified_0(\n",
    "                                                             x[\"diff\"]\n",
    "                                                          )\n",
    "                                                     ).splitlines(keepends=True)[:1000])\n",
    "                                                 )),\n",
    "                                             \"msg_token\": ' '.join(word_tokenize(x[\"commit_message\"]))\n",
    "                                            }, batched=False, num_proc=num_cpus)"
   ]
  },
  {
   "cell_type": "code",
   "execution_count": 14,
   "id": "31d83adc-c8e8-4c22-9a36-f7f7d4b58b0c",
   "metadata": {},
   "outputs": [
    {
     "data": {
      "text/plain": [
       "DatasetDict({\n",
       "    test: Dataset({\n",
       "        features: ['commit_id', 'owner', 'repo', 'label', 'diff_token', 'msg_token'],\n",
       "        num_rows: 2131395\n",
       "    })\n",
       "    validation: Dataset({\n",
       "        features: ['commit_id', 'owner', 'repo', 'label', 'diff_token', 'msg_token'],\n",
       "        num_rows: 2467950\n",
       "    })\n",
       "    train: Dataset({\n",
       "        features: ['commit_id', 'owner', 'repo', 'label', 'diff_token', 'msg_token'],\n",
       "        num_rows: 3624262\n",
       "    })\n",
       "})"
      ]
     },
     "execution_count": 14,
     "metadata": {},
     "output_type": "execute_result"
    }
   ],
   "source": [
    "ds_nonpatches = ds_nonpatches.remove_columns([\"commit_message\", \"diff\"])\n",
    "ds_nonpatches"
   ]
  },
  {
   "cell_type": "code",
   "execution_count": 17,
   "id": "31045c3c-6de1-4a61-8deb-f35e20ccc360",
   "metadata": {},
   "outputs": [
    {
     "data": {
      "application/vnd.jupyter.widget-view+json": {
       "model_id": "27b129fbc1904e3886670d79d9724d82",
       "version_major": 2,
       "version_minor": 0
      },
      "text/plain": [
       "Saving the dataset (0/108 shards):   0%|          | 0/3632163 [00:00<?, ? examples/s]"
      ]
     },
     "metadata": {},
     "output_type": "display_data"
    },
    {
     "data": {
      "application/vnd.jupyter.widget-view+json": {
       "model_id": "4ab22d6482a24fe6a9fa462e2ddc469c",
       "version_major": 2,
       "version_minor": 0
      },
      "text/plain": [
       "Saving the dataset (0/66 shards):   0%|          | 0/2150904 [00:00<?, ? examples/s]"
      ]
     },
     "metadata": {},
     "output_type": "display_data"
    },
    {
     "data": {
      "application/vnd.jupyter.widget-view+json": {
       "model_id": "4e39f6a0b8144656b30108d50e51f59c",
       "version_major": 2,
       "version_minor": 0
      },
      "text/plain": [
       "Saving the dataset (0/74 shards):   0%|          | 0/2485831 [00:00<?, ? examples/s]"
      ]
     },
     "metadata": {},
     "output_type": "display_data"
    }
   ],
   "source": [
    "ds_nonpatches.save_to_disk(\"tmp/ds_nonpatches\")"
   ]
  }
 ],
 "metadata": {
  "kernelspec": {
   "display_name": "Python 3 (ipykernel)",
   "language": "python",
   "name": "python3"
  },
  "language_info": {
   "codemirror_mode": {
    "name": "ipython",
    "version": 3
   },
   "file_extension": ".py",
   "mimetype": "text/x-python",
   "name": "python",
   "nbconvert_exporter": "python",
   "pygments_lexer": "ipython3",
   "version": "3.12.3"
  }
 },
 "nbformat": 4,
 "nbformat_minor": 5
}
