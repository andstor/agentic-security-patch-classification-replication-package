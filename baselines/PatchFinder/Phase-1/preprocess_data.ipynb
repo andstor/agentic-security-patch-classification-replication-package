{
 "cells": [
  {
   "cell_type": "code",
   "execution_count": 1,
   "id": "2a6d81e1-2f07-4298-8c07-61a9e398c3dd",
   "metadata": {},
   "outputs": [],
   "source": [
    "import os\n",
    "import pandas as pd\n",
    "from sklearn.feature_extraction.text import TfidfVectorizer\n",
    "from sklearn.metrics.pairwise import cosine_similarity\n",
    "from tqdm import tqdm\n",
    "import gc\n",
    "import multiprocessing as mp\n",
    "from tqdm import tqdm\n",
    "from datasets import load_dataset\n",
    "import polars as pl\n",
    "import pandas as pd\n",
    "import re\n"
   ]
  },
  {
   "cell_type": "code",
   "execution_count": 2,
   "id": "2debeaf5-66d3-491a-9db1-bc741180b6db",
   "metadata": {},
   "outputs": [
    {
     "name": "stderr",
     "output_type": "stream",
     "text": [
      "[nltk_data] Downloading package punkt_tab to\n",
      "[nltk_data]     /cluster/home/andstorh/nltk_data...\n",
      "[nltk_data]   Package punkt_tab is already up-to-date!\n"
     ]
    }
   ],
   "source": [
    "import nltk\n",
    "nltk.download('punkt_tab')\n",
    "\n",
    "from nltk import word_tokenize\n"
   ]
  },
  {
   "cell_type": "code",
   "execution_count": 3,
   "id": "d2fe1d38-6e0f-4d82-a079-b772082a979c",
   "metadata": {},
   "outputs": [],
   "source": [
    "DATA_DIR = '../../../data/baselines/PatchFinder'"
   ]
  },
  {
   "cell_type": "code",
   "execution_count": 4,
   "id": "60e451b3-e48c-42f3-b8f4-b61dac2e84ad",
   "metadata": {},
   "outputs": [
    {
     "data": {
      "application/vnd.jupyter.widget-view+json": {
       "model_id": "e3b39a1920a74420858b3781584a211e",
       "version_major": 2,
       "version_minor": 0
      },
      "text/plain": [
       "Resolving data files:   0%|          | 0/468 [00:00<?, ?it/s]"
      ]
     },
     "metadata": {},
     "output_type": "display_data"
    },
    {
     "data": {
      "application/vnd.jupyter.widget-view+json": {
       "model_id": "05a6e69b31534846b76a9d14b2686edd",
       "version_major": 2,
       "version_minor": 0
      },
      "text/plain": [
       "Resolving data files:   0%|          | 0/540 [00:00<?, ?it/s]"
      ]
     },
     "metadata": {},
     "output_type": "display_data"
    },
    {
     "data": {
      "application/vnd.jupyter.widget-view+json": {
       "model_id": "495bbd93aa2445df96dd83d87c94d543",
       "version_major": 2,
       "version_minor": 0
      },
      "text/plain": [
       "Resolving data files:   0%|          | 0/793 [00:00<?, ?it/s]"
      ]
     },
     "metadata": {},
     "output_type": "display_data"
    },
    {
     "data": {
      "application/vnd.jupyter.widget-view+json": {
       "model_id": "51a27951675a4967a147fb541873acf4",
       "version_major": 2,
       "version_minor": 0
      },
      "text/plain": [
       "Resolving data files:   0%|          | 0/468 [00:00<?, ?it/s]"
      ]
     },
     "metadata": {},
     "output_type": "display_data"
    },
    {
     "data": {
      "application/vnd.jupyter.widget-view+json": {
       "model_id": "ec42b5278f774ee6be25ab8e385640eb",
       "version_major": 2,
       "version_minor": 0
      },
      "text/plain": [
       "Resolving data files:   0%|          | 0/540 [00:00<?, ?it/s]"
      ]
     },
     "metadata": {},
     "output_type": "display_data"
    },
    {
     "data": {
      "application/vnd.jupyter.widget-view+json": {
       "model_id": "d74d6d94389947a8a68df02b5de186f0",
       "version_major": 2,
       "version_minor": 0
      },
      "text/plain": [
       "Resolving data files:   0%|          | 0/793 [00:00<?, ?it/s]"
      ]
     },
     "metadata": {},
     "output_type": "display_data"
    },
    {
     "data": {
      "application/vnd.jupyter.widget-view+json": {
       "model_id": "044b23faf8064bef8fde6b0453e288b7",
       "version_major": 2,
       "version_minor": 0
      },
      "text/plain": [
       "Resolving data files:   0%|          | 0/468 [00:00<?, ?it/s]"
      ]
     },
     "metadata": {},
     "output_type": "display_data"
    },
    {
     "data": {
      "application/vnd.jupyter.widget-view+json": {
       "model_id": "7976a517b54d459696871e87b76cf59a",
       "version_major": 2,
       "version_minor": 0
      },
      "text/plain": [
       "Resolving data files:   0%|          | 0/540 [00:00<?, ?it/s]"
      ]
     },
     "metadata": {},
     "output_type": "display_data"
    },
    {
     "data": {
      "application/vnd.jupyter.widget-view+json": {
       "model_id": "cd9c5c9e2c3c4d50b3d8ba5ee1a08982",
       "version_major": 2,
       "version_minor": 0
      },
      "text/plain": [
       "Resolving data files:   0%|          | 0/793 [00:00<?, ?it/s]"
      ]
     },
     "metadata": {},
     "output_type": "display_data"
    },
    {
     "data": {
      "application/vnd.jupyter.widget-view+json": {
       "model_id": "9547e02e02c44c2a9a378e2de802d657",
       "version_major": 2,
       "version_minor": 0
      },
      "text/plain": [
       "Loading dataset shards:   0%|          | 0/182 [00:00<?, ?it/s]"
      ]
     },
     "metadata": {},
     "output_type": "display_data"
    },
    {
     "data": {
      "application/vnd.jupyter.widget-view+json": {
       "model_id": "61f45ad959704bd8a7d9a252b5750f7d",
       "version_major": 2,
       "version_minor": 0
      },
      "text/plain": [
       "Loading dataset shards:   0%|          | 0/213 [00:00<?, ?it/s]"
      ]
     },
     "metadata": {},
     "output_type": "display_data"
    },
    {
     "data": {
      "application/vnd.jupyter.widget-view+json": {
       "model_id": "bcb207740ecd4668be422cbf993080b2",
       "version_major": 2,
       "version_minor": 0
      },
      "text/plain": [
       "Loading dataset shards:   0%|          | 0/285 [00:00<?, ?it/s]"
      ]
     },
     "metadata": {},
     "output_type": "display_data"
    }
   ],
   "source": [
    "ds_cve = load_dataset('fals3/cvevc_cve')\n",
    "ds_patches = load_dataset('fals3/cvcvc_commits', \"patches\")\n",
    "ds_nonpatches = load_dataset('fals3/cvcvc_commits', \"non_patches\")"
   ]
  },
  {
   "cell_type": "code",
   "execution_count": 5,
   "id": "7e7e5827-6e13-4cea-8e0b-f3e3073505db",
   "metadata": {},
   "outputs": [],
   "source": [
    "import re\n",
    "\n",
    "def convert_to_unified_0(diff: str) -> str:\n",
    "    \"\"\"\n",
    "    Takes a git diff string and returns a version equivalent to `git diff --unified=0`.\n",
    "    \"\"\"\n",
    "    output_lines = []\n",
    "    diff_lines = diff.splitlines()\n",
    "    \n",
    "    inside_diff = False\n",
    "    \n",
    "    for line in diff_lines:\n",
    "        if line.startswith(\"diff --git\") or line.startswith(\"index\") or line.startswith(\"---\") or line.startswith(\"+++\"):\n",
    "            output_lines.append(line)\n",
    "        elif line.startswith(\"@@\"):\n",
    "            inside_diff = True\n",
    "            # Extract hunk header and modify it to show 0 lines of context\n",
    "            match = re.match(r\"@@ -(\\d+),?(\\d*) \\+(\\d+),?(\\d*) @@\", line)\n",
    "            if match:\n",
    "                old_start, old_count, new_start, new_count = match.groups()\n",
    "                old_count = int(old_count) if old_count else 1\n",
    "                new_count = int(new_count) if new_count else 1\n",
    "                output_lines.append(f\"@@ -{old_start},0 +{new_start},0 @@\")\n",
    "            else:\n",
    "                output_lines.append(line)\n",
    "        elif inside_diff:\n",
    "            if line.startswith(\"+\") or line.startswith(\"-\"):\n",
    "                output_lines.append(line)\n",
    "        else:\n",
    "            output_lines.append(line)\n",
    "    \n",
    "    return \"\\n\".join(output_lines)"
   ]
  },
  {
   "cell_type": "code",
   "execution_count": 6,
   "id": "af15f6f1-c684-4479-8b96-1b1967faae20",
   "metadata": {
    "editable": true,
    "slideshow": {
     "slide_type": ""
    },
    "tags": []
   },
   "outputs": [],
   "source": [
    "import re\n",
    "\n",
    "def format_git_show_minimal(git_show_string):\n",
    "    \"\"\"\n",
    "    Robustly extracts diff content starting from the first '@@' line for each file, including the 'diff --git' line.\n",
    "\n",
    "    Args:\n",
    "        git_show_string: The git show diff string with potentially multiple file diffs.\n",
    "\n",
    "    Returns:\n",
    "        The extracted diff content, or an empty string if no diff is found.\n",
    "    \"\"\"\n",
    "    lines = git_show_string.splitlines()\n",
    "    result_diffs = []\n",
    "    current_diff = []\n",
    "    at_at_found = False\n",
    "\n",
    "    for line in lines:\n",
    "        if line.startswith(\"diff --git\"):\n",
    "            if current_diff:  # Store the previous diff if any\n",
    "                result_diffs.append(\"\\n\".join(current_diff))\n",
    "            current_diff = [line]  # Start a new diff\n",
    "            at_at_found = False\n",
    "        elif current_diff:\n",
    "            if line.startswith(\"@@\"):\n",
    "                at_at_found = True\n",
    "                current_diff.append(line)\n",
    "            elif at_at_found:\n",
    "                current_diff.append(line)\n",
    "\n",
    "    if current_diff:  # Store the last diff\n",
    "        result_diffs.append(\"\\n\".join(current_diff))\n",
    "\n",
    "    return \"\\n\".join(result_diffs).strip()\n"
   ]
  },
  {
   "cell_type": "code",
   "execution_count": 7,
   "id": "21fd02f6-edd8-4819-88f8-70c0e6254002",
   "metadata": {},
   "outputs": [],
   "source": [
    "num_cpus = 10"
   ]
  },
  {
   "cell_type": "code",
   "execution_count": 8,
   "id": "e0a9cbec-fd67-4e28-b9ed-0b121dfc34b2",
   "metadata": {},
   "outputs": [
    {
     "data": {
      "text/plain": [
       "DatasetDict({\n",
       "    train: Dataset({\n",
       "        features: ['cve', 'published_date', 'desc', 'commit_urls', 'commits', 'desc_token'],\n",
       "        num_rows: 8970\n",
       "    })\n",
       "    test: Dataset({\n",
       "        features: ['cve', 'published_date', 'desc', 'commit_urls', 'commits', 'desc_token'],\n",
       "        num_rows: 1365\n",
       "    })\n",
       "    validation: Dataset({\n",
       "        features: ['cve', 'published_date', 'desc', 'commit_urls', 'commits', 'desc_token'],\n",
       "        num_rows: 1608\n",
       "    })\n",
       "})"
      ]
     },
     "execution_count": 8,
     "metadata": {},
     "output_type": "execute_result"
    }
   ],
   "source": [
    "ds_cve = ds_cve.map(lambda x: {\"desc_token\": ' '.join(word_tokenize(x[\"desc\"]))}, batched=False, num_proc=num_cpus)\n",
    "ds_cve"
   ]
  },
  {
   "cell_type": "code",
   "execution_count": 9,
   "id": "c29723a0-bce4-4022-9894-ca30bb5a7d95",
   "metadata": {},
   "outputs": [],
   "source": [
    "# Remove binaries\n",
    "ds_patches = ds_patches.filter(lambda x: len(x['diff']) <= 45510, batched=False, num_proc=num_cpus)"
   ]
  },
  {
   "cell_type": "code",
   "execution_count": 10,
   "id": "71dee635-b36e-46d9-a6aa-4b864be7a1b0",
   "metadata": {},
   "outputs": [
    {
     "data": {
      "application/vnd.jupyter.widget-view+json": {
       "model_id": "44f86e844a924f90ba5f58befa3ea46e",
       "version_major": 2,
       "version_minor": 0
      },
      "text/plain": [
       "Map (num_proc=10):   0%|          | 0/11249 [00:00<?, ? examples/s]"
      ]
     },
     "metadata": {},
     "output_type": "display_data"
    },
    {
     "data": {
      "application/vnd.jupyter.widget-view+json": {
       "model_id": "ac7d91173d444862a6398607a70b1d81",
       "version_major": 2,
       "version_minor": 0
      },
      "text/plain": [
       "Map (num_proc=10):   0%|          | 0/1375 [00:00<?, ? examples/s]"
      ]
     },
     "metadata": {},
     "output_type": "display_data"
    },
    {
     "data": {
      "application/vnd.jupyter.widget-view+json": {
       "model_id": "c604afc8741c470491ba105c5d3f4c39",
       "version_major": 2,
       "version_minor": 0
      },
      "text/plain": [
       "Map (num_proc=10):   0%|          | 0/1381 [00:00<?, ? examples/s]"
      ]
     },
     "metadata": {},
     "output_type": "display_data"
    }
   ],
   "source": [
    "ds_patches = ds_patches.map(lambda x: {\"diff_token\": \n",
    "                                            ' '.join(word_tokenize(\n",
    "                                                ''.join(format_git_show_minimal(\n",
    "                                                    convert_to_unified_0(\n",
    "                                                       x[\"diff\"]\n",
    "                                                    )\n",
    "                                               ).splitlines(keepends=True)[:1000])\n",
    "                                           )),\n",
    "                                       \"msg_token\": ' '.join(word_tokenize(x[\"commit_message\"]))\n",
    "                                      }, batched=False, num_proc=num_cpus)"
   ]
  },
  {
   "cell_type": "code",
   "execution_count": 11,
   "id": "67708e11-c3e8-4cf3-adfe-55d5e3b644fd",
   "metadata": {},
   "outputs": [
    {
     "data": {
      "text/plain": [
       "DatasetDict({\n",
       "    train: Dataset({\n",
       "        features: ['commit_id', 'owner', 'repo', 'label', 'diff_token', 'msg_token'],\n",
       "        num_rows: 11249\n",
       "    })\n",
       "    test: Dataset({\n",
       "        features: ['commit_id', 'owner', 'repo', 'label', 'diff_token', 'msg_token'],\n",
       "        num_rows: 1375\n",
       "    })\n",
       "    validation: Dataset({\n",
       "        features: ['commit_id', 'owner', 'repo', 'label', 'diff_token', 'msg_token'],\n",
       "        num_rows: 1381\n",
       "    })\n",
       "})"
      ]
     },
     "execution_count": 11,
     "metadata": {},
     "output_type": "execute_result"
    }
   ],
   "source": [
    "ds_patches = ds_patches.remove_columns([\"commit_message\", \"diff\"])\n",
    "ds_patches"
   ]
  },
  {
   "cell_type": "code",
   "execution_count": 12,
   "id": "430c8259-3318-460d-82cd-d9f3d3406bff",
   "metadata": {},
   "outputs": [],
   "source": [
    "# Remove binaries\n",
    "ds_nonpatches = ds_nonpatches.filter(lambda x: len(x['diff']) <= 45510, batched=False, num_proc=num_cpus)"
   ]
  },
  {
   "cell_type": "code",
   "execution_count": 13,
   "id": "19d3d13b-7861-4d0d-9801-fff6dbeb0e07",
   "metadata": {},
   "outputs": [],
   "source": [
    "ds_nonpatches = ds_nonpatches.map(lambda x: {\"diff_token\": \n",
    "                                                  ' '.join(word_tokenize(\n",
    "                                                      \"\".join(format_git_show_minimal(\n",
    "                                                          convert_to_unified_0(\n",
    "                                                             x[\"diff\"]\n",
    "                                                          )\n",
    "                                                     ).splitlines(keepends=True)[:1000])\n",
    "                                                 )),\n",
    "                                             \"msg_token\": ' '.join(word_tokenize(x[\"commit_message\"]))\n",
    "                                            }, batched=False, num_proc=num_cpus)"
   ]
  },
  {
   "cell_type": "code",
   "execution_count": 14,
   "id": "31d83adc-c8e8-4c22-9a36-f7f7d4b58b0c",
   "metadata": {},
   "outputs": [
    {
     "data": {
      "text/plain": [
       "DatasetDict({\n",
       "    test: Dataset({\n",
       "        features: ['commit_id', 'owner', 'repo', 'label', 'diff_token', 'msg_token'],\n",
       "        num_rows: 2131395\n",
       "    })\n",
       "    validation: Dataset({\n",
       "        features: ['commit_id', 'owner', 'repo', 'label', 'diff_token', 'msg_token'],\n",
       "        num_rows: 2467950\n",
       "    })\n",
       "    train: Dataset({\n",
       "        features: ['commit_id', 'owner', 'repo', 'label', 'diff_token', 'msg_token'],\n",
       "        num_rows: 3624262\n",
       "    })\n",
       "})"
      ]
     },
     "execution_count": 14,
     "metadata": {},
     "output_type": "execute_result"
    }
   ],
   "source": [
    "ds_nonpatches = ds_nonpatches.remove_columns([\"commit_message\", \"diff\"])\n",
    "ds_nonpatches"
   ]
  },
  {
   "cell_type": "code",
   "execution_count": 15,
   "id": "31045c3c-6de1-4a61-8deb-f35e20ccc360",
   "metadata": {},
   "outputs": [],
   "source": [
    "!mkdir -p \"tmp/tokenized\""
   ]
  },
  {
   "cell_type": "code",
   "execution_count": 16,
   "id": "d611d406-827f-4a71-9623-99886e27d7f1",
   "metadata": {},
   "outputs": [
    {
     "data": {
      "application/vnd.jupyter.widget-view+json": {
       "model_id": "6959a66857dc4d708e7bdac86182e394",
       "version_major": 2,
       "version_minor": 0
      },
      "text/plain": [
       "Creating parquet from Arrow format:   0%|          | 0/9 [00:00<?, ?ba/s]"
      ]
     },
     "metadata": {},
     "output_type": "display_data"
    },
    {
     "name": "stdout",
     "output_type": "stream",
     "text": [
      "✅ Saved: tmp/tokenized/cve_train.parquet\n"
     ]
    },
    {
     "data": {
      "application/vnd.jupyter.widget-view+json": {
       "model_id": "89e021f4072243bfba4059cdbdb54966",
       "version_major": 2,
       "version_minor": 0
      },
      "text/plain": [
       "Creating parquet from Arrow format:   0%|          | 0/2 [00:00<?, ?ba/s]"
      ]
     },
     "metadata": {},
     "output_type": "display_data"
    },
    {
     "name": "stdout",
     "output_type": "stream",
     "text": [
      "✅ Saved: tmp/tokenized/cve_test.parquet\n"
     ]
    },
    {
     "data": {
      "application/vnd.jupyter.widget-view+json": {
       "model_id": "677eaf1023b04a66a1b8599a339cf29b",
       "version_major": 2,
       "version_minor": 0
      },
      "text/plain": [
       "Creating parquet from Arrow format:   0%|          | 0/2 [00:00<?, ?ba/s]"
      ]
     },
     "metadata": {},
     "output_type": "display_data"
    },
    {
     "name": "stdout",
     "output_type": "stream",
     "text": [
      "✅ Saved: tmp/tokenized/cve_validation.parquet\n"
     ]
    },
    {
     "data": {
      "application/vnd.jupyter.widget-view+json": {
       "model_id": "4545917b0115437ba1ad78dc1bf1be9d",
       "version_major": 2,
       "version_minor": 0
      },
      "text/plain": [
       "Creating parquet from Arrow format:   0%|          | 0/12 [00:00<?, ?ba/s]"
      ]
     },
     "metadata": {},
     "output_type": "display_data"
    },
    {
     "name": "stdout",
     "output_type": "stream",
     "text": [
      "✅ Saved: tmp/tokenized/patches_train.parquet\n"
     ]
    },
    {
     "data": {
      "application/vnd.jupyter.widget-view+json": {
       "model_id": "cd2e6e44d4c94e2f92cc5bc8faf38b1b",
       "version_major": 2,
       "version_minor": 0
      },
      "text/plain": [
       "Creating parquet from Arrow format:   0%|          | 0/2 [00:00<?, ?ba/s]"
      ]
     },
     "metadata": {},
     "output_type": "display_data"
    },
    {
     "name": "stdout",
     "output_type": "stream",
     "text": [
      "✅ Saved: tmp/tokenized/patches_test.parquet\n"
     ]
    },
    {
     "data": {
      "application/vnd.jupyter.widget-view+json": {
       "model_id": "af057e58589747cbb15e65f8f8aa748f",
       "version_major": 2,
       "version_minor": 0
      },
      "text/plain": [
       "Creating parquet from Arrow format:   0%|          | 0/2 [00:00<?, ?ba/s]"
      ]
     },
     "metadata": {},
     "output_type": "display_data"
    },
    {
     "name": "stdout",
     "output_type": "stream",
     "text": [
      "✅ Saved: tmp/tokenized/patches_validation.parquet\n"
     ]
    }
   ],
   "source": [
    "import os\n",
    "\n",
    "def save_datasetdict_to_parquet(ds_dict, name: str, out_dir: str):\n",
    "    os.makedirs(out_dir, exist_ok=True)\n",
    "    for split_name, split_ds in ds_dict.items():\n",
    "        out_path = os.path.join(out_dir, f\"{name}_{split_name}.parquet\")\n",
    "        split_ds.to_parquet(out_path)\n",
    "        print(f\"✅ Saved: {out_path}\")\n",
    "\n",
    "# Call it for each dataset\n",
    "save_datasetdict_to_parquet(ds_cve, \"cve\", \"tmp/tokenized\")\n",
    "save_datasetdict_to_parquet(ds_patches, \"patches\", \"tmp/tokenized\")\n",
    "#save_datasetdict_to_parquet(ds_nonpatches, \"nonpatches\", \"tmp/tokenized\")"
   ]
  },
  {
   "cell_type": "code",
   "execution_count": 17,
   "id": "53be6bd2-24ae-48d0-abe9-23e76dd0dd6c",
   "metadata": {},
   "outputs": [
    {
     "name": "stderr",
     "output_type": "stream",
     "text": [
      "Partitioning splits:   0%|                                                                                                                                                                                                   | 0/3 [00:00<?, ?it/s]\n",
      "  0%|                                                                                                                                                                                                                     | 0/1022 [00:00<?, ?it/s]\u001b[A\n",
      "  0%|▊                                                                                                                                                                                                            | 4/1022 [00:00<00:30, 33.81it/s]\u001b[A\n",
      "  1%|██▍                                                                                                                                                                                                         | 12/1022 [00:00<00:23, 43.10it/s]\u001b[A\n",
      "  2%|███▍                                                                                                                                                                                                        | 17/1022 [00:00<00:23, 42.82it/s]\u001b[A\n",
      "  2%|████▍                                                                                                                                                                                                       | 22/1022 [00:00<00:26, 37.58it/s]\u001b[A\n",
      "  3%|█████▌                                                                                                                                                                                                      | 28/1022 [00:00<00:25, 39.03it/s]\u001b[A\n",
      "  3%|██████▉                                                                                                                                                                                                     | 35/1022 [00:00<00:26, 37.57it/s]\u001b[A\n",
      "  4%|███████▊                                                                                                                                                                                                    | 39/1022 [00:01<00:32, 30.35it/s]\u001b[A\n",
      "  4%|████████▊                                                                                                                                                                                                   | 44/1022 [00:01<00:29, 33.60it/s]\u001b[A\n",
      "  5%|█████████▌                                                                                                                                                                                                  | 48/1022 [00:01<00:29, 33.24it/s]\u001b[A\n",
      "  5%|███████████▏                                                                                                                                                                                                | 56/1022 [00:01<00:23, 41.33it/s]\u001b[A\n",
      "  6%|████████████▏                                                                                                                                                                                               | 61/1022 [00:01<00:23, 41.24it/s]\u001b[A\n",
      "  6%|█████████████▏                                                                                                                                                                                              | 66/1022 [00:01<00:25, 37.86it/s]\u001b[A\n",
      "  7%|██████████████▌                                                                                                                                                                                             | 73/1022 [00:01<00:22, 41.91it/s]\u001b[A\n",
      "  8%|███████████████▌                                                                                                                                                                                            | 78/1022 [00:02<00:23, 39.85it/s]\u001b[A\n",
      "  8%|████████████████▌                                                                                                                                                                                           | 83/1022 [00:02<00:22, 41.00it/s]\u001b[A\n",
      "  9%|█████████████████▌                                                                                                                                                                                          | 88/1022 [00:02<00:24, 38.79it/s]\u001b[A\n",
      "  9%|██████████████████▎                                                                                                                                                                                         | 92/1022 [00:02<00:26, 34.76it/s]\u001b[A\n",
      "  9%|███████████████████▏                                                                                                                                                                                        | 96/1022 [00:02<00:28, 32.37it/s]\u001b[A\n",
      " 10%|███████████████████▊                                                                                                                                                                                       | 100/1022 [00:02<00:28, 31.83it/s]\u001b[A\n",
      " 10%|████████████████████▋                                                                                                                                                                                      | 104/1022 [00:03<00:43, 20.92it/s]\u001b[A\n",
      " 11%|█████████████████████▋                                                                                                                                                                                     | 109/1022 [00:03<00:40, 22.71it/s]\u001b[A\n",
      " 11%|██████████████████████▋                                                                                                                                                                                    | 114/1022 [00:03<00:33, 27.09it/s]\u001b[A\n",
      " 12%|███████████████████████▍                                                                                                                                                                                   | 118/1022 [00:03<00:30, 29.61it/s]\u001b[A\n",
      " 12%|████████████████████████▏                                                                                                                                                                                  | 122/1022 [00:03<00:46, 19.54it/s]\u001b[A\n",
      " 12%|████████████████████████▊                                                                                                                                                                                  | 125/1022 [00:04<00:52, 17.07it/s]\u001b[A\n",
      " 13%|█████████████████████████▍                                                                                                                                                                                 | 128/1022 [00:04<00:52, 16.93it/s]\u001b[A\n",
      " 13%|██████████████████████████                                                                                                                                                                                 | 131/1022 [00:04<00:47, 18.68it/s]\u001b[A\n",
      " 13%|██████████████████████████▌                                                                                                                                                                                | 134/1022 [00:04<00:48, 18.30it/s]\u001b[A\n",
      " 14%|███████████████████████████▌                                                                                                                                                                               | 139/1022 [00:04<00:39, 22.35it/s]\u001b[A\n",
      " 14%|████████████████████████████▊                                                                                                                                                                              | 145/1022 [00:04<00:29, 29.58it/s]\u001b[A\n",
      " 15%|█████████████████████████████▌                                                                                                                                                                             | 149/1022 [00:05<00:31, 27.96it/s]\u001b[A\n",
      " 15%|██████████████████████████████▍                                                                                                                                                                            | 153/1022 [00:05<00:36, 23.50it/s]\u001b[A\n",
      " 16%|███████████████████████████████▌                                                                                                                                                                           | 159/1022 [00:05<00:31, 27.49it/s]\u001b[A\n",
      " 16%|████████████████████████████████▍                                                                                                                                                                          | 163/1022 [00:05<00:35, 24.36it/s]\u001b[A\n",
      " 16%|████████████████████████████████▉                                                                                                                                                                          | 166/1022 [00:05<00:36, 23.21it/s]\u001b[A\n",
      " 17%|██████████████████████████████████▌                                                                                                                                                                        | 174/1022 [00:05<00:27, 31.02it/s]\u001b[A\n",
      " 17%|███████████████████████████████████▎                                                                                                                                                                       | 178/1022 [00:06<00:25, 32.83it/s]\u001b[A\n",
      " 18%|████████████████████████████████████▏                                                                                                                                                                      | 182/1022 [00:06<00:29, 28.69it/s]\u001b[A\n",
      " 18%|█████████████████████████████████████▎                                                                                                                                                                     | 188/1022 [00:06<00:25, 32.23it/s]\u001b[A\n",
      " 19%|██████████████████████████████████████▏                                                                                                                                                                    | 192/1022 [00:06<00:28, 28.91it/s]\u001b[A\n",
      " 19%|███████████████████████████████████████▌                                                                                                                                                                   | 199/1022 [00:06<00:23, 35.62it/s]\u001b[A\n",
      " 20%|█████████████████████████████████████████                                                                                                                                                                  | 207/1022 [00:06<00:18, 44.04it/s]\u001b[A\n",
      " 21%|██████████████████████████████████████████                                                                                                                                                                 | 212/1022 [00:06<00:19, 40.87it/s]\u001b[A\n",
      " 21%|███████████████████████████████████████████                                                                                                                                                                | 217/1022 [00:07<00:19, 41.30it/s]\u001b[A\n",
      " 22%|████████████████████████████████████████████▎                                                                                                                                                              | 223/1022 [00:07<00:19, 40.80it/s]\u001b[A\n",
      " 22%|█████████████████████████████████████████████▎                                                                                                                                                             | 228/1022 [00:07<00:22, 35.54it/s]\u001b[A\n",
      " 23%|██████████████████████████████████████████████                                                                                                                                                             | 232/1022 [00:07<00:23, 33.79it/s]\u001b[A\n",
      " 23%|██████████████████████████████████████████████▉                                                                                                                                                            | 236/1022 [00:07<00:23, 34.03it/s]\u001b[A\n",
      " 23%|███████████████████████████████████████████████▋                                                                                                                                                           | 240/1022 [00:07<00:26, 29.05it/s]\u001b[A\n",
      " 24%|████████████████████████████████████████████████▍                                                                                                                                                          | 244/1022 [00:08<00:36, 21.56it/s]\u001b[A\n",
      " 24%|█████████████████████████████████████████████████▋                                                                                                                                                         | 250/1022 [00:08<00:28, 26.96it/s]\u001b[A\n",
      " 25%|██████████████████████████████████████████████████▋                                                                                                                                                        | 255/1022 [00:08<00:25, 30.44it/s]\u001b[A\n",
      " 26%|████████████████████████████████████████████████████                                                                                                                                                       | 262/1022 [00:08<00:19, 38.71it/s]\u001b[A\n",
      " 27%|█████████████████████████████████████████████████████▊                                                                                                                                                     | 271/1022 [00:08<00:15, 47.44it/s]\u001b[A\n",
      " 27%|███████████████████████████████████████████████████████                                                                                                                                                    | 277/1022 [00:08<00:15, 47.37it/s]\u001b[A\n",
      " 28%|████████████████████████████████████████████████████████▏                                                                                                                                                  | 283/1022 [00:09<00:24, 30.04it/s]\u001b[A\n",
      " 28%|█████████████████████████████████████████████████████████▏                                                                                                                                                 | 288/1022 [00:09<00:22, 33.34it/s]\u001b[A\n",
      " 29%|██████████████████████████████████████████████████████████▏                                                                                                                                                | 293/1022 [00:09<00:21, 34.65it/s]\u001b[A\n",
      " 29%|███████████████████████████████████████████████████████████▌                                                                                                                                               | 300/1022 [00:09<00:17, 40.88it/s]\u001b[A\n",
      " 30%|████████████████████████████████████████████████████████████▉                                                                                                                                              | 307/1022 [00:09<00:18, 39.40it/s]\u001b[A\n",
      " 31%|██████████████████████████████████████████████████████████████▌                                                                                                                                            | 315/1022 [00:09<00:15, 45.50it/s]\u001b[A\n",
      " 31%|███████████████████████████████████████████████████████████████▊                                                                                                                                           | 321/1022 [00:09<00:14, 48.57it/s]\u001b[A\n",
      " 32%|████████████████████████████████████████████████████████████████▉                                                                                                                                          | 327/1022 [00:10<00:15, 43.53it/s]\u001b[A\n",
      " 32%|█████████████████████████████████████████████████████████████████▉                                                                                                                                         | 332/1022 [00:10<00:23, 29.99it/s]\u001b[A\n",
      " 33%|██████████████████████████████████████████████████████████████████▋                                                                                                                                        | 336/1022 [00:10<00:22, 30.45it/s]\u001b[A\n",
      " 33%|███████████████████████████████████████████████████████████████████▋                                                                                                                                       | 341/1022 [00:10<00:21, 32.18it/s]\u001b[A\n",
      " 34%|████████████████████████████████████████████████████████████████████▌                                                                                                                                      | 345/1022 [00:10<00:21, 31.07it/s]\u001b[A\n",
      " 34%|█████████████████████████████████████████████████████████████████████▎                                                                                                                                     | 349/1022 [00:10<00:21, 31.94it/s]\u001b[A\n",
      " 35%|██████████████████████████████████████████████████████████████████████▉                                                                                                                                    | 357/1022 [00:11<00:17, 38.43it/s]\u001b[A\n",
      " 35%|███████████████████████████████████████████████████████████████████████▋                                                                                                                                   | 361/1022 [00:11<00:21, 31.33it/s]\u001b[A\n",
      " 36%|████████████████████████████████████████████████████████████████████████▉                                                                                                                                  | 367/1022 [00:11<00:17, 37.13it/s]\u001b[A\n",
      " 36%|█████████████████████████████████████████████████████████████████████████▉                                                                                                                                 | 372/1022 [00:11<00:19, 33.15it/s]\u001b[A\n",
      " 37%|██████████████████████████████████████████████████████████████████████████▋                                                                                                                                | 376/1022 [00:11<00:19, 33.07it/s]\u001b[A\n",
      " 37%|███████████████████████████████████████████████████████████████████████████▉                                                                                                                               | 382/1022 [00:11<00:16, 38.87it/s]\u001b[A\n",
      " 38%|█████████████████████████████████████████████████████████████████████████████▎                                                                                                                             | 389/1022 [00:11<00:13, 45.79it/s]\u001b[A\n",
      " 39%|██████████████████████████████████████████████████████████████████████████████▎                                                                                                                            | 394/1022 [00:12<00:18, 34.67it/s]\u001b[A\n",
      " 39%|███████████████████████████████████████████████████████████████████████████████▎                                                                                                                           | 399/1022 [00:12<00:22, 27.84it/s]\u001b[A\n",
      " 39%|████████████████████████████████████████████████████████████████████████████████                                                                                                                           | 403/1022 [00:12<00:21, 29.24it/s]\u001b[A\n",
      " 40%|████████████████████████████████████████████████████████████████████████████████▊                                                                                                                          | 407/1022 [00:12<00:20, 29.79it/s]\u001b[A\n",
      " 40%|█████████████████████████████████████████████████████████████████████████████████▋                                                                                                                         | 411/1022 [00:12<00:20, 30.29it/s]\u001b[A\n",
      " 41%|██████████████████████████████████████████████████████████████████████████████████▍                                                                                                                        | 415/1022 [00:12<00:20, 29.03it/s]\u001b[A\n",
      " 41%|███████████████████████████████████████████████████████████████████████████████████▏                                                                                                                       | 419/1022 [00:13<00:20, 29.70it/s]\u001b[A\n",
      " 41%|████████████████████████████████████████████████████████████████████████████████████                                                                                                                       | 423/1022 [00:13<00:27, 21.55it/s]\u001b[A\n",
      " 42%|█████████████████████████████████████████████████████████████████████████████████████▏                                                                                                                     | 429/1022 [00:13<00:22, 26.30it/s]\u001b[A\n",
      " 42%|██████████████████████████████████████████████████████████████████████████████████████                                                                                                                     | 433/1022 [00:13<00:23, 25.55it/s]\u001b[A\n",
      " 43%|██████████████████████████████████████████████████████████████████████████████████████▌                                                                                                                    | 436/1022 [00:13<00:24, 24.24it/s]\u001b[A\n",
      " 43%|███████████████████████████████████████████████████████████████████████████████████████▏                                                                                                                   | 439/1022 [00:13<00:25, 22.89it/s]\u001b[A\n",
      " 43%|███████████████████████████████████████████████████████████████████████████████████████▉                                                                                                                   | 443/1022 [00:14<00:22, 25.29it/s]\u001b[A\n",
      " 44%|████████████████████████████████████████████████████████████████████████████████████████▉                                                                                                                  | 448/1022 [00:14<00:19, 29.34it/s]\u001b[A\n",
      " 45%|██████████████████████████████████████████████████████████████████████████████████████████▍                                                                                                                | 455/1022 [00:14<00:15, 37.20it/s]\u001b[A\n",
      " 45%|███████████████████████████████████████████████████████████████████████████████████████████▏                                                                                                               | 459/1022 [00:14<00:15, 35.52it/s]\u001b[A\n",
      " 46%|████████████████████████████████████████████████████████████████████████████████████████████▊                                                                                                              | 467/1022 [00:14<00:14, 39.35it/s]\u001b[A\n",
      " 46%|█████████████████████████████████████████████████████████████████████████████████████████████▌                                                                                                             | 471/1022 [00:14<00:18, 30.50it/s]\u001b[A\n",
      " 47%|██████████████████████████████████████████████████████████████████████████████████████████████▋                                                                                                            | 477/1022 [00:14<00:15, 35.75it/s]\u001b[A\n",
      " 47%|███████████████████████████████████████████████████████████████████████████████████████████████▌                                                                                                           | 481/1022 [00:15<00:16, 32.00it/s]\u001b[A\n",
      " 48%|████████████████████████████████████████████████████████████████████████████████████████████████▌                                                                                                          | 486/1022 [00:15<00:15, 35.28it/s]\u001b[A\n",
      " 48%|█████████████████████████████████████████████████████████████████████████████████████████████████▉                                                                                                         | 493/1022 [00:15<00:12, 41.35it/s]\u001b[A\n",
      " 49%|██████████████████████████████████████████████████████████████████████████████████████████████████▉                                                                                                        | 498/1022 [00:15<00:13, 37.66it/s]\u001b[A\n",
      " 50%|████████████████████████████████████████████████████████████████████████████████████████████████████▌                                                                                                      | 506/1022 [00:15<00:11, 46.12it/s]\u001b[A\n",
      " 50%|█████████████████████████████████████████████████████████████████████████████████████████████████████▌                                                                                                     | 511/1022 [00:15<00:13, 38.32it/s]\u001b[A\n",
      " 50%|██████████████████████████████████████████████████████████████████████████████████████████████████████▍                                                                                                    | 516/1022 [00:15<00:12, 39.96it/s]\u001b[A\n",
      " 51%|███████████████████████████████████████████████████████████████████████████████████████████████████████▍                                                                                                   | 521/1022 [00:16<00:14, 35.37it/s]\u001b[A\n",
      " 51%|████████████████████████████████████████████████████████████████████████████████████████████████████████▎                                                                                                  | 525/1022 [00:16<00:13, 35.58it/s]\u001b[A\n",
      " 52%|█████████████████████████████████████████████████████████████████████████████████████████████████████████                                                                                                  | 529/1022 [00:16<00:17, 28.81it/s]\u001b[A\n",
      " 52%|█████████████████████████████████████████████████████████████████████████████████████████████████████████▊                                                                                                 | 533/1022 [00:16<00:20, 24.16it/s]\u001b[A\n",
      " 53%|███████████████████████████████████████████████████████████████████████████████████████████████████████████                                                                                                | 539/1022 [00:16<00:16, 29.07it/s]\u001b[A\n",
      " 53%|███████████████████████████████████████████████████████████████████████████████████████████████████████████▊                                                                                               | 543/1022 [00:16<00:16, 29.01it/s]\u001b[A\n",
      " 54%|█████████████████████████████████████████████████████████████████████████████████████████████████████████████                                                                                              | 549/1022 [00:17<00:13, 34.27it/s]\u001b[A\n",
      " 54%|█████████████████████████████████████████████████████████████████████████████████████████████████████████████▊                                                                                             | 553/1022 [00:17<00:17, 27.23it/s]\u001b[A\n",
      " 55%|███████████████████████████████████████████████████████████████████████████████████████████████████████████████▋                                                                                           | 562/1022 [00:17<00:12, 37.95it/s]\u001b[A\n",
      " 56%|████████████████████████████████████████████████████████████████████████████████████████████████████████████████▊                                                                                          | 568/1022 [00:17<00:10, 41.41it/s]\u001b[A\n",
      " 56%|█████████████████████████████████████████████████████████████████████████████████████████████████████████████████▊                                                                                         | 573/1022 [00:17<00:14, 29.98it/s]\u001b[A\n",
      " 56%|██████████████████████████████████████████████████████████████████████████████████████████████████████████████████▌                                                                                        | 577/1022 [00:18<00:15, 27.98it/s]\u001b[A\n",
      " 57%|███████████████████████████████████████████████████████████████████████████████████████████████████████████████████▍                                                                                       | 581/1022 [00:18<00:17, 25.43it/s]\u001b[A\n",
      " 57%|████████████████████████████████████████████████████████████████████████████████████████████████████████████████████                                                                                       | 584/1022 [00:18<00:18, 24.01it/s]\u001b[A\n",
      " 58%|█████████████████████████████████████████████████████████████████████████████████████████████████████████████████████▏                                                                                     | 590/1022 [00:18<00:15, 28.59it/s]\u001b[A\n",
      " 59%|██████████████████████████████████████████████████████████████████████████████████████████████████████████████████████▊                                                                                    | 598/1022 [00:18<00:11, 38.52it/s]\u001b[A\n",
      " 59%|███████████████████████████████████████████████████████████████████████████████████████████████████████████████████████▊                                                                                   | 603/1022 [00:18<00:11, 37.21it/s]\u001b[A\n",
      " 59%|████████████████████████████████████████████████████████████████████████████████████████████████████████████████████████▊                                                                                  | 608/1022 [00:18<00:12, 32.83it/s]\u001b[A\n",
      " 60%|█████████████████████████████████████████████████████████████████████████████████████████████████████████████████████████▌                                                                                 | 612/1022 [00:19<00:12, 34.16it/s]\u001b[A\n",
      " 60%|██████████████████████████████████████████████████████████████████████████████████████████████████████████████████████████▎                                                                                | 616/1022 [00:19<00:12, 33.51it/s]\u001b[A\n",
      " 61%|███████████████████████████████████████████████████████████████████████████████████████████████████████████████████████████▏                                                                               | 620/1022 [00:19<00:11, 34.68it/s]\u001b[A\n",
      " 61%|███████████████████████████████████████████████████████████████████████████████████████████████████████████████████████████▉                                                                               | 624/1022 [00:19<00:12, 31.31it/s]\u001b[A\n",
      " 61%|████████████████████████████████████████████████████████████████████████████████████████████████████████████████████████████▋                                                                              | 628/1022 [00:19<00:13, 28.81it/s]\u001b[A\n",
      " 62%|█████████████████████████████████████████████████████████████████████████████████████████████████████████████████████████████▌                                                                             | 632/1022 [00:19<00:14, 27.53it/s]\u001b[A\n",
      " 62%|██████████████████████████████████████████████████████████████████████████████████████████████████████████████████████████████▋                                                                            | 638/1022 [00:19<00:11, 33.46it/s]\u001b[A\n",
      " 63%|███████████████████████████████████████████████████████████████████████████████████████████████████████████████████████████████▌                                                                           | 642/1022 [00:20<00:11, 34.37it/s]\u001b[A\n",
      " 63%|████████████████████████████████████████████████████████████████████████████████████████████████████████████████████████████████▎                                                                          | 646/1022 [00:20<00:11, 33.67it/s]\u001b[A\n",
      " 64%|█████████████████████████████████████████████████████████████████████████████████████████████████████████████████████████████████                                                                          | 650/1022 [00:20<00:13, 28.37it/s]\u001b[A\n",
      " 64%|█████████████████████████████████████████████████████████████████████████████████████████████████████████████████████████████████▉                                                                         | 654/1022 [00:20<00:14, 26.02it/s]\u001b[A\n",
      " 64%|██████████████████████████████████████████████████████████████████████████████████████████████████████████████████████████████████▉                                                                        | 659/1022 [00:20<00:11, 30.83it/s]\u001b[A\n",
      " 65%|████████████████████████████████████████████████████████████████████████████████████████████████████████████████████████████████████▍                                                                      | 667/1022 [00:20<00:09, 37.62it/s]\u001b[A\n",
      " 66%|█████████████████████████████████████████████████████████████████████████████████████████████████████████████████████████████████████▎                                                                     | 671/1022 [00:20<00:09, 37.88it/s]\u001b[A\n",
      " 66%|██████████████████████████████████████████████████████████████████████████████████████████████████████████████████████████████████████                                                                     | 675/1022 [00:21<00:11, 31.03it/s]\u001b[A\n",
      " 66%|██████████████████████████████████████████████████████████████████████████████████████████████████████████████████████████████████████▊                                                                    | 679/1022 [00:21<00:12, 27.03it/s]\u001b[A\n",
      " 67%|███████████████████████████████████████████████████████████████████████████████████████████████████████████████████████████████████████▋                                                                   | 683/1022 [00:21<00:11, 28.42it/s]\u001b[A\n",
      " 67%|████████████████████████████████████████████████████████████████████████████████████████████████████████████████████████████████████████▊                                                                  | 689/1022 [00:21<00:10, 31.27it/s]\u001b[A\n",
      " 68%|█████████████████████████████████████████████████████████████████████████████████████████████████████████████████████████████████████████▋                                                                 | 693/1022 [00:21<00:14, 23.24it/s]\u001b[A\n",
      " 68%|██████████████████████████████████████████████████████████████████████████████████████████████████████████████████████████████████████████▊                                                                | 699/1022 [00:22<00:13, 23.26it/s]\u001b[A\n",
      " 69%|███████████████████████████████████████████████████████████████████████████████████████████████████████████████████████████████████████████▊                                                               | 704/1022 [00:22<00:12, 25.46it/s]\u001b[A\n",
      " 69%|████████████████████████████████████████████████████████████████████████████████████████████████████████████████████████████████████████████▍                                                              | 707/1022 [00:22<00:12, 24.45it/s]\u001b[A\n",
      " 70%|█████████████████████████████████████████████████████████████████████████████████████████████████████████████████████████████████████████████▏                                                             | 711/1022 [00:22<00:12, 25.82it/s]\u001b[A\n",
      " 70%|█████████████████████████████████████████████████████████████████████████████████████████████████████████████████████████████████████████████▊                                                             | 714/1022 [00:22<00:11, 25.82it/s]\u001b[A\n",
      " 70%|██████████████████████████████████████████████████████████████████████████████████████████████████████████████████████████████████████████████▍                                                            | 717/1022 [00:22<00:11, 26.42it/s]\u001b[A\n",
      " 70%|███████████████████████████████████████████████████████████████████████████████████████████████████████████████████████████████████████████████                                                            | 720/1022 [00:22<00:13, 21.78it/s]\u001b[A\n",
      " 71%|███████████████████████████████████████████████████████████████████████████████████████████████████████████████████████████████████████████████▌                                                           | 723/1022 [00:23<00:13, 22.95it/s]\u001b[A\n",
      " 71%|████████████████████████████████████████████████████████████████████████████████████████████████████████████████████████████████████████████████▍                                                          | 727/1022 [00:23<00:12, 24.03it/s]\u001b[A\n",
      " 72%|█████████████████████████████████████████████████████████████████████████████████████████████████████████████████████████████████████████████████▉                                                         | 735/1022 [00:23<00:08, 33.60it/s]\u001b[A\n",
      " 72%|██████████████████████████████████████████████████████████████████████████████████████████████████████████████████████████████████████████████████▊                                                        | 739/1022 [00:23<00:09, 28.41it/s]\u001b[A\n",
      " 73%|███████████████████████████████████████████████████████████████████████████████████████████████████████████████████████████████████████████████████▊                                                       | 744/1022 [00:23<00:10, 27.26it/s]\u001b[A\n",
      " 73%|████████████████████████████████████████████████████████████████████████████████████████████████████████████████████████████████████████████████████▍                                                      | 747/1022 [00:23<00:10, 25.71it/s]\u001b[A\n",
      " 73%|█████████████████████████████████████████████████████████████████████████████████████████████████████████████████████████████████████████████████████▏                                                     | 751/1022 [00:24<00:09, 27.88it/s]\u001b[A\n",
      " 74%|█████████████████████████████████████████████████████████████████████████████████████████████████████████████████████████████████████████████████████▉                                                     | 755/1022 [00:24<00:09, 28.59it/s]\u001b[A\n",
      " 74%|██████████████████████████████████████████████████████████████████████████████████████████████████████████████████████████████████████████████████████▌                                                    | 758/1022 [00:24<00:11, 23.46it/s]\u001b[A\n",
      " 75%|███████████████████████████████████████████████████████████████████████████████████████████████████████████████████████████████████████████████████████▌                                                   | 763/1022 [00:24<00:09, 27.10it/s]\u001b[A\n",
      " 75%|████████████████████████████████████████████████████████████████████████████████████████████████████████████████████████████████████████████████████████▎                                                  | 767/1022 [00:24<00:08, 29.78it/s]\u001b[A\n",
      " 75%|█████████████████████████████████████████████████████████████████████████████████████████████████████████████████████████████████████████████████████████▏                                                 | 771/1022 [00:24<00:08, 30.26it/s]\u001b[A\n",
      " 76%|█████████████████████████████████████████████████████████████████████████████████████████████████████████████████████████████████████████████████████████▉                                                 | 775/1022 [00:24<00:09, 25.05it/s]\u001b[A\n",
      " 77%|███████████████████████████████████████████████████████████████████████████████████████████████████████████████████████████████████████████████████████████▉                                               | 785/1022 [00:25<00:06, 39.33it/s]\u001b[A\n",
      " 77%|████████████████████████████████████████████████████████████████████████████████████████████████████████████████████████████████████████████████████████████▉                                              | 790/1022 [00:25<00:07, 29.79it/s]\u001b[A\n",
      " 78%|█████████████████████████████████████████████████████████████████████████████████████████████████████████████████████████████████████████████████████████████▋                                             | 794/1022 [00:25<00:08, 27.86it/s]\u001b[A\n",
      " 78%|██████████████████████████████████████████████████████████████████████████████████████████████████████████████████████████████████████████████████████████████▌                                            | 798/1022 [00:25<00:09, 24.44it/s]\u001b[A\n",
      " 78%|███████████████████████████████████████████████████████████████████████████████████████████████████████████████████████████████████████████████████████████████▎                                           | 802/1022 [00:25<00:08, 24.88it/s]\u001b[A\n",
      " 79%|████████████████████████████████████████████████████████████████████████████████████████████████████████████████████████████████████████████████████████████████▎                                          | 807/1022 [00:26<00:08, 25.42it/s]\u001b[A\n",
      " 79%|█████████████████████████████████████████████████████████████████████████████████████████████████████████████████████████████████████████████████████████████████▎                                         | 812/1022 [00:26<00:09, 22.65it/s]\u001b[A\n",
      " 80%|██████████████████████████████████████████████████████████████████████████████████████████████████████████████████████████████████████████████████████████████████▎                                        | 817/1022 [00:26<00:08, 24.27it/s]\u001b[A\n",
      " 80%|███████████████████████████████████████████████████████████████████████████████████████████████████████████████████████████████████████████████████████████████████▎                                       | 822/1022 [00:26<00:07, 28.57it/s]\u001b[A\n",
      " 81%|████████████████████████████████████████████████████████████████████████████████████████████████████████████████████████████████████████████████████████████████████▎                                      | 827/1022 [00:26<00:07, 24.96it/s]\u001b[A\n",
      " 81%|█████████████████████████████████████████████████████████████████████████████████████████████████████████████████████████████████████████████████████████████████████                                      | 831/1022 [00:27<00:08, 21.41it/s]\u001b[A\n",
      " 82%|█████████████████████████████████████████████████████████████████████████████████████████████████████████████████████████████████████████████████████████████████████▋                                     | 834/1022 [00:27<00:09, 19.02it/s]\u001b[A\n",
      " 82%|██████████████████████████████████████████████████████████████████████████████████████████████████████████████████████████████████████████████████████████████████████▎                                    | 837/1022 [00:27<00:08, 20.56it/s]\u001b[A\n",
      " 82%|██████████████████████████████████████████████████████████████████████████████████████████████████████████████████████████████████████████████████████████████████████▊                                    | 840/1022 [00:27<00:08, 20.92it/s]\u001b[A\n",
      " 82%|███████████████████████████████████████████████████████████████████████████████████████████████████████████████████████████████████████████████████████████████████████▍                                   | 843/1022 [00:27<00:08, 21.83it/s]\u001b[A\n",
      " 83%|████████████████████████████████████████████████████████████████████████████████████████████████████████████████████████████████████████████████████████████████████████                                   | 846/1022 [00:28<00:10, 16.45it/s]\u001b[A\n",
      " 83%|████████████████████████████████████████████████████████████████████████████████████████████████████████████████████████████████████████████████████████████████████████▊                                  | 850/1022 [00:28<00:08, 19.63it/s]\u001b[A\n",
      " 83%|█████████████████████████████████████████████████████████████████████████████████████████████████████████████████████████████████████████████████████████████████████████▍                                 | 853/1022 [00:28<00:07, 21.28it/s]\u001b[A\n",
      " 84%|██████████████████████████████████████████████████████████████████████████████████████████████████████████████████████████████████████████████████████████████████████████                                 | 856/1022 [00:28<00:07, 21.62it/s]\u001b[A\n",
      " 84%|███████████████████████████████████████████████████████████████████████████████████████████████████████████████████████████████████████████████████████████████████████████                                | 861/1022 [00:28<00:05, 27.23it/s]\u001b[A\n",
      " 85%|███████████████████████████████████████████████████████████████████████████████████████████████████████████████████████████████████████████████████████████████████████████▊                               | 865/1022 [00:28<00:05, 28.93it/s]\u001b[A\n",
      " 85%|████████████████████████████████████████████████████████████████████████████████████████████████████████████████████████████████████████████████████████████████████████████▊                              | 870/1022 [00:28<00:04, 33.75it/s]\u001b[A\n",
      " 86%|█████████████████████████████████████████████████████████████████████████████████████████████████████████████████████████████████████████████████████████████████████████████▌                             | 874/1022 [00:28<00:04, 31.99it/s]\u001b[A\n",
      " 86%|██████████████████████████████████████████████████████████████████████████████████████████████████████████████████████████████████████████████████████████████████████████████▍                            | 878/1022 [00:29<00:04, 30.63it/s]\u001b[A\n",
      " 86%|███████████████████████████████████████████████████████████████████████████████████████████████████████████████████████████████████████████████████████████████████████████████▍                           | 883/1022 [00:29<00:04, 33.67it/s]\u001b[A\n",
      " 87%|████████████████████████████████████████████████████████████████████████████████████████████████████████████████████████████████████████████████████████████████████████████████▏                          | 887/1022 [00:29<00:04, 33.35it/s]\u001b[A\n",
      " 87%|████████████████████████████████████████████████████████████████████████████████████████████████████████████████████████████████████████████████████████████████████████████████▉                          | 891/1022 [00:29<00:05, 26.03it/s]\u001b[A\n",
      " 87%|█████████████████████████████████████████████████████████████████████████████████████████████████████████████████████████████████████████████████████████████████████████████████▌                         | 894/1022 [00:29<00:07, 18.17it/s]\u001b[A\n",
      " 88%|██████████████████████████████████████████████████████████████████████████████████████████████████████████████████████████████████████████████████████████████████████████████████▊                        | 900/1022 [00:29<00:04, 25.05it/s]\u001b[A\n",
      " 88%|███████████████████████████████████████████████████████████████████████████████████████████████████████████████████████████████████████████████████████████████████████████████████▌                       | 904/1022 [00:30<00:06, 19.58it/s]\u001b[A\n",
      " 89%|████████████████████████████████████████████████████████████████████████████████████████████████████████████████████████████████████████████████████████████████████████████████████▉                      | 911/1022 [00:30<00:04, 22.29it/s]\u001b[A\n",
      " 89%|█████████████████████████████████████████████████████████████████████████████████████████████████████████████████████████████████████████████████████████████████████████████████████▌                     | 914/1022 [00:30<00:05, 21.30it/s]\u001b[A\n",
      " 90%|██████████████████████████████████████████████████████████████████████████████████████████████████████████████████████████████████████████████████████████████████████████████████████▏                    | 917/1022 [00:30<00:04, 22.59it/s]\u001b[A\n",
      " 90%|██████████████████████████████████████████████████████████████████████████████████████████████████████████████████████████████████████████████████████████████████████████████████████▋                    | 920/1022 [00:30<00:04, 22.87it/s]\u001b[A\n",
      " 90%|███████████████████████████████████████████████████████████████████████████████████████████████████████████████████████████████████████████████████████████████████████████████████████▌                   | 924/1022 [00:31<00:03, 24.99it/s]\u001b[A\n",
      " 91%|████████████████████████████████████████████████████████████████████████████████████████████████████████████████████████████████████████████████████████████████████████████████████████▌                  | 929/1022 [00:31<00:03, 29.03it/s]\u001b[A\n",
      " 91%|█████████████████████████████████████████████████████████████████████████████████████████████████████████████████████████████████████████████████████████████████████████████████████████▎                 | 933/1022 [00:31<00:02, 30.24it/s]\u001b[A\n",
      " 92%|██████████████████████████████████████████████████████████████████████████████████████████████████████████████████████████████████████████████████████████████████████████████████████████                 | 937/1022 [00:31<00:03, 28.30it/s]\u001b[A\n",
      " 92%|███████████████████████████████████████████████████████████████████████████████████████████████████████████████████████████████████████████████████████████████████████████████████████████                | 942/1022 [00:31<00:02, 28.91it/s]\u001b[A\n",
      " 93%|████████████████████████████████████████████████████████████████████████████████████████████████████████████████████████████████████████████████████████████████████████████████████████████▎              | 948/1022 [00:31<00:02, 29.53it/s]\u001b[A\n",
      " 93%|█████████████████████████████████████████████████████████████████████████████████████████████████████████████████████████████████████████████████████████████████████████████████████████████▎             | 953/1022 [00:31<00:02, 31.28it/s]\u001b[A\n",
      " 94%|██████████████████████████████████████████████████████████████████████████████████████████████████████████████████████████████████████████████████████████████████████████████████████████████             | 957/1022 [00:32<00:02, 22.20it/s]\u001b[A\n",
      " 94%|██████████████████████████████████████████████████████████████████████████████████████████████████████████████████████████████████████████████████████████████████████████████████████████████▉            | 961/1022 [00:32<00:02, 22.17it/s]\u001b[A\n",
      " 94%|███████████████████████████████████████████████████████████████████████████████████████████████████████████████████████████████████████████████████████████████████████████████████████████████▋           | 965/1022 [00:32<00:02, 23.12it/s]\u001b[A\n",
      " 95%|████████████████████████████████████████████████████████████████████████████████████████████████████████████████████████████████████████████████████████████████████████████████████████████████▎          | 968/1022 [00:32<00:03, 16.53it/s]\u001b[A\n",
      " 95%|████████████████████████████████████████████████████████████████████████████████████████████████████████████████████████████████████████████████████████████████████████████████████████████████▊          | 971/1022 [00:33<00:03, 16.47it/s]\u001b[A\n",
      " 95%|█████████████████████████████████████████████████████████████████████████████████████████████████████████████████████████████████████████████████████████████████████████████████████████████████▍         | 974/1022 [00:33<00:02, 17.88it/s]\u001b[A\n",
      " 96%|██████████████████████████████████████████████████████████████████████████████████████████████████████████████████████████████████████████████████████████████████████████████████████████████████▍        | 979/1022 [00:33<00:02, 19.86it/s]\u001b[A\n",
      " 96%|███████████████████████████████████████████████████████████████████████████████████████████████████████████████████████████████████████████████████████████████████████████████████████████████████▍       | 984/1022 [00:33<00:01, 24.00it/s]\u001b[A\n",
      " 97%|████████████████████████████████████████████████████████████████████████████████████████████████████████████████████████████████████████████████████████████████████████████████████████████████████       | 987/1022 [00:33<00:01, 22.07it/s]\u001b[A\n",
      " 97%|████████████████████████████████████████████████████████████████████████████████████████████████████████████████████████████████████████████████████████████████████████████████████████████████████▊      | 991/1022 [00:33<00:01, 22.36it/s]\u001b[A\n",
      " 97%|█████████████████████████████████████████████████████████████████████████████████████████████████████████████████████████████████████████████████████████████████████████████████████████████████████▍     | 994/1022 [00:34<00:01, 17.58it/s]\u001b[A\n",
      " 97%|█████████████████████████████████████████████████████████████████████████████████████████████████████████████████████████████████████████████████████████████████████████████████████████████████████▊     | 996/1022 [00:34<00:01, 15.33it/s]\u001b[A\n",
      " 98%|██████████████████████████████████████████████████████████████████████████████████████████████████████████████████████████████████████████████████████████████████████████████████████████████████████    | 1002/1022 [00:34<00:00, 22.62it/s]\u001b[A\n",
      " 98%|██████████████████████████████████████████████████████████████████████████████████████████████████████████████████████████████████████████████████████████████████████████████████████████████████████▊   | 1006/1022 [00:34<00:00, 23.35it/s]\u001b[A\n",
      " 99%|███████████████████████████████████████████████████████████████████████████████████████████████████████████████████████████████████████████████████████████████████████████████████████████████████████▍  | 1009/1022 [00:34<00:00, 23.04it/s]\u001b[A\n",
      " 99%|████████████████████████████████████████████████████████████████████████████████████████████████████████████████████████████████████████████████████████████████████████████████████████████████████████▌ | 1015/1022 [00:34<00:00, 29.87it/s]\u001b[A\n",
      "100%|██████████████████████████████████████████████████████████████████████████████████████████████████████████████████████████████████████████████████████████████████████████████████████████████████████████| 1022/1022 [00:35<00:00, 29.09it/s]\u001b[A\n",
      "Partitioning splits:  33%|██████████████████████████████████████████████████████████████▎                                                                                                                            | 1/3 [01:31<03:02, 91.11s/it]\n",
      "  0%|                                                                                                                                                                                                                     | 0/1454 [00:00<?, ?it/s]\u001b[A\n",
      "  1%|█▎                                                                                                                                                                                                           | 9/1454 [00:00<00:16, 89.08it/s]\u001b[A\n",
      "  1%|██▋                                                                                                                                                                                                         | 19/1454 [00:00<00:16, 85.30it/s]\u001b[A\n",
      "  2%|███▉                                                                                                                                                                                                        | 28/1454 [00:00<00:17, 80.40it/s]\u001b[A\n",
      "  3%|█████▏                                                                                                                                                                                                      | 37/1454 [00:00<00:20, 70.15it/s]\u001b[A\n",
      "  3%|██████▎                                                                                                                                                                                                     | 45/1454 [00:00<00:23, 58.75it/s]\u001b[A\n",
      "  4%|███████▎                                                                                                                                                                                                    | 52/1454 [00:02<02:14, 10.45it/s]\u001b[A\n",
      "  4%|███████▉                                                                                                                                                                                                    | 57/1454 [00:02<01:51, 12.51it/s]\u001b[A\n",
      "  4%|████████▉                                                                                                                                                                                                   | 64/1454 [00:03<01:27, 15.85it/s]\u001b[A\n",
      "  5%|█████████▌                                                                                                                                                                                                  | 68/1454 [00:03<01:19, 17.46it/s]\u001b[A\n",
      "  5%|██████████▏                                                                                                                                                                                                 | 73/1454 [00:03<01:06, 20.72it/s]\u001b[A\n",
      "  6%|███████████▏                                                                                                                                                                                                | 80/1454 [00:03<00:51, 26.88it/s]\u001b[A\n",
      "  6%|███████████▉                                                                                                                                                                                                | 85/1454 [00:03<00:57, 23.66it/s]\u001b[A\n",
      "  6%|█████████████▏                                                                                                                                                                                              | 94/1454 [00:03<00:43, 31.36it/s]\u001b[A\n",
      "  7%|██████████████▏                                                                                                                                                                                            | 102/1454 [00:03<00:34, 39.21it/s]\u001b[A\n",
      "  7%|███████████████                                                                                                                                                                                            | 108/1454 [00:04<00:43, 30.92it/s]\u001b[A\n",
      "  8%|███████████████▊                                                                                                                                                                                           | 113/1454 [00:04<00:40, 33.00it/s]\u001b[A\n",
      "  8%|████████████████▌                                                                                                                                                                                          | 119/1454 [00:04<00:35, 37.40it/s]\u001b[A\n",
      "  9%|█████████████████▍                                                                                                                                                                                         | 125/1454 [00:04<00:32, 41.51it/s]\u001b[A\n",
      "  9%|██████████████████▎                                                                                                                                                                                        | 131/1454 [00:04<00:31, 41.59it/s]\u001b[A\n",
      "  9%|███████████████████▎                                                                                                                                                                                       | 138/1454 [00:04<00:27, 47.72it/s]\u001b[A\n",
      " 10%|████████████████████                                                                                                                                                                                       | 144/1454 [00:04<00:30, 42.74it/s]\u001b[A\n",
      " 11%|█████████████████████▊                                                                                                                                                                                     | 156/1454 [00:05<00:22, 56.92it/s]\u001b[A\n",
      " 11%|██████████████████████▊                                                                                                                                                                                    | 163/1454 [00:05<00:28, 46.01it/s]\u001b[A\n",
      " 12%|███████████████████████▋                                                                                                                                                                                   | 170/1454 [00:05<00:25, 50.46it/s]\u001b[A\n",
      " 12%|████████████████████████▊                                                                                                                                                                                  | 178/1454 [00:05<00:22, 56.26it/s]\u001b[A\n",
      " 13%|██████████████████████████▏                                                                                                                                                                                | 188/1454 [00:05<00:19, 65.13it/s]\u001b[A\n",
      " 13%|███████████████████████████▎                                                                                                                                                                               | 196/1454 [00:05<00:25, 48.97it/s]\u001b[A\n",
      " 14%|████████████████████████████▏                                                                                                                                                                              | 202/1454 [00:06<00:32, 38.42it/s]\u001b[A\n",
      " 15%|█████████████████████████████▍                                                                                                                                                                             | 211/1454 [00:06<00:26, 46.45it/s]\u001b[A\n",
      " 15%|██████████████████████████████▎                                                                                                                                                                            | 217/1454 [00:06<00:29, 41.46it/s]\u001b[A\n",
      " 15%|███████████████████████████████▏                                                                                                                                                                           | 223/1454 [00:06<00:29, 41.47it/s]\u001b[A\n",
      " 16%|████████████████████████████████▎                                                                                                                                                                          | 231/1454 [00:06<00:25, 47.96it/s]\u001b[A\n",
      " 16%|█████████████████████████████████                                                                                                                                                                          | 237/1454 [00:06<00:24, 48.99it/s]\u001b[A\n",
      " 17%|██████████████████████████████████                                                                                                                                                                         | 244/1454 [00:06<00:23, 52.17it/s]\u001b[A\n",
      " 17%|██████████████████████████████████▉                                                                                                                                                                        | 250/1454 [00:07<00:23, 50.92it/s]\u001b[A\n",
      " 18%|███████████████████████████████████▋                                                                                                                                                                       | 256/1454 [00:07<00:23, 51.02it/s]\u001b[A\n",
      " 18%|████████████████████████████████████▌                                                                                                                                                                      | 262/1454 [00:07<00:25, 47.41it/s]\u001b[A\n",
      " 18%|█████████████████████████████████████▎                                                                                                                                                                     | 267/1454 [00:07<00:40, 29.65it/s]\u001b[A\n",
      " 19%|█████████████████████████████████████▊                                                                                                                                                                     | 271/1454 [00:08<01:03, 18.73it/s]\u001b[A\n",
      " 19%|███████████████████████████████████████                                                                                                                                                                    | 280/1454 [00:08<00:44, 26.43it/s]\u001b[A\n",
      " 20%|████████████████████████████████████████                                                                                                                                                                   | 287/1454 [00:08<00:36, 31.86it/s]\u001b[A\n",
      " 20%|████████████████████████████████████████▉                                                                                                                                                                  | 293/1454 [00:08<00:32, 35.70it/s]\u001b[A\n",
      " 21%|██████████████████████████████████████████                                                                                                                                                                 | 301/1454 [00:08<00:26, 42.84it/s]\u001b[A\n",
      " 21%|██████████████████████████████████████████▊                                                                                                                                                                | 307/1454 [00:08<00:32, 34.91it/s]\u001b[A\n",
      " 21%|███████████████████████████████████████████▌                                                                                                                                                               | 312/1454 [00:09<00:33, 34.51it/s]\u001b[A\n",
      " 22%|████████████████████████████████████████████▌                                                                                                                                                              | 319/1454 [00:09<00:28, 40.43it/s]\u001b[A\n",
      " 22%|█████████████████████████████████████████████▌                                                                                                                                                             | 326/1454 [00:09<00:24, 46.26it/s]\u001b[A\n",
      " 23%|██████████████████████████████████████████████▎                                                                                                                                                            | 332/1454 [00:09<00:22, 49.11it/s]\u001b[A\n",
      " 23%|███████████████████████████████████████████████▏                                                                                                                                                           | 338/1454 [00:09<00:24, 45.96it/s]\u001b[A\n",
      " 24%|████████████████████████████████████████████████                                                                                                                                                           | 344/1454 [00:09<00:23, 46.77it/s]\u001b[A\n",
      " 24%|████████████████████████████████████████████████▋                                                                                                                                                          | 349/1454 [00:09<00:26, 42.33it/s]\u001b[A\n",
      " 24%|█████████████████████████████████████████████████▍                                                                                                                                                         | 354/1454 [00:09<00:25, 42.74it/s]\u001b[A\n",
      " 25%|███████████████████████████████████████████████████▏                                                                                                                                                       | 367/1454 [00:10<00:19, 56.58it/s]\u001b[A\n",
      " 26%|████████████████████████████████████████████████████                                                                                                                                                       | 373/1454 [00:10<00:21, 50.23it/s]\u001b[A\n",
      " 26%|████████████████████████████████████████████████████▉                                                                                                                                                      | 379/1454 [00:10<00:27, 39.34it/s]\u001b[A\n",
      " 26%|█████████████████████████████████████████████████████▊                                                                                                                                                     | 385/1454 [00:10<00:27, 38.61it/s]\u001b[A\n",
      " 27%|██████████████████████████████████████████████████████▊                                                                                                                                                    | 393/1454 [00:10<00:23, 45.85it/s]\u001b[A\n",
      " 27%|███████████████████████████████████████████████████████▋                                                                                                                                                   | 399/1454 [00:10<00:24, 42.49it/s]\u001b[A\n",
      " 28%|████████████████████████████████████████████████████████▌                                                                                                                                                  | 405/1454 [00:11<00:23, 43.79it/s]\u001b[A\n",
      " 28%|█████████████████████████████████████████████████████████▏                                                                                                                                                 | 410/1454 [00:11<00:24, 42.48it/s]\u001b[A\n",
      " 29%|█████████████████████████████████████████████████████████▉                                                                                                                                                 | 415/1454 [00:11<00:32, 32.40it/s]\u001b[A\n",
      " 29%|██████████████████████████████████████████████████████████▊                                                                                                                                                | 421/1454 [00:11<00:28, 36.25it/s]\u001b[A\n",
      " 30%|████████████████████████████████████████████████████████████                                                                                                                                               | 430/1454 [00:11<00:22, 45.82it/s]\u001b[A\n",
      " 30%|█████████████████████████████████████████████████████████████▏                                                                                                                                             | 438/1454 [00:11<00:19, 51.25it/s]\u001b[A\n",
      " 31%|█████████████████████████████████████████████████████████████▉                                                                                                                                             | 444/1454 [00:12<00:22, 45.29it/s]\u001b[A\n",
      " 31%|██████████████████████████████████████████████████████████████▊                                                                                                                                            | 450/1454 [00:12<00:20, 48.40it/s]\u001b[A\n",
      " 31%|███████████████████████████████████████████████████████████████▋                                                                                                                                           | 456/1454 [00:12<00:22, 44.08it/s]\u001b[A\n",
      " 32%|████████████████████████████████████████████████████████████████▌                                                                                                                                          | 462/1454 [00:12<00:22, 43.97it/s]\u001b[A\n",
      " 32%|█████████████████████████████████████████████████████████████████▏                                                                                                                                         | 467/1454 [00:12<00:29, 33.79it/s]\u001b[A\n",
      " 32%|█████████████████████████████████████████████████████████████████▊                                                                                                                                         | 471/1454 [00:12<00:28, 34.27it/s]\u001b[A\n",
      " 33%|██████████████████████████████████████████████████████████████████▍                                                                                                                                        | 476/1454 [00:12<00:26, 37.38it/s]\u001b[A\n",
      " 33%|███████████████████████████████████████████████████████████████████▏                                                                                                                                       | 481/1454 [00:13<00:27, 35.43it/s]\u001b[A\n",
      " 33%|███████████████████████████████████████████████████████████████████▉                                                                                                                                       | 487/1454 [00:13<00:23, 41.00it/s]\u001b[A\n",
      " 34%|█████████████████████████████████████████████████████████████████████                                                                                                                                      | 495/1454 [00:13<00:20, 47.58it/s]\u001b[A\n",
      " 34%|█████████████████████████████████████████████████████████████████████▉                                                                                                                                     | 501/1454 [00:13<00:19, 48.03it/s]\u001b[A\n",
      " 35%|███████████████████████████████████████████████████████████████████████                                                                                                                                    | 509/1454 [00:13<00:17, 54.91it/s]\u001b[A\n",
      " 35%|███████████████████████████████████████████████████████████████████████▉                                                                                                                                   | 515/1454 [00:13<00:20, 45.57it/s]\u001b[A\n",
      " 36%|████████████████████████████████████████████████████████████████████████▋                                                                                                                                  | 521/1454 [00:13<00:22, 41.75it/s]\u001b[A\n",
      " 36%|█████████████████████████████████████████████████████████████████████████▍                                                                                                                                 | 526/1454 [00:13<00:21, 42.36it/s]\u001b[A\n",
      " 37%|██████████████████████████████████████████████████████████████████████████▏                                                                                                                                | 531/1454 [00:14<00:22, 40.83it/s]\u001b[A\n",
      " 37%|████████████████████████████████████████████████████████████████████████████                                                                                                                               | 545/1454 [00:14<00:17, 51.27it/s]\u001b[A\n",
      " 38%|█████████████████████████████████████████████████████████████████████████████▏                                                                                                                             | 553/1454 [00:14<00:19, 46.94it/s]\u001b[A\n",
      " 38%|█████████████████████████████████████████████████████████████████████████████▉                                                                                                                             | 558/1454 [00:14<00:21, 41.81it/s]\u001b[A\n",
      " 39%|██████████████████████████████████████████████████████████████████████████████▋                                                                                                                            | 564/1454 [00:14<00:20, 44.10it/s]\u001b[A\n",
      " 39%|███████████████████████████████████████████████████████████████████████████████▊                                                                                                                           | 572/1454 [00:14<00:17, 49.53it/s]\u001b[A\n",
      " 40%|████████████████████████████████████████████████████████████████████████████████▋                                                                                                                          | 578/1454 [00:15<00:18, 47.88it/s]\u001b[A\n",
      " 40%|█████████████████████████████████████████████████████████████████████████████████▌                                                                                                                         | 584/1454 [00:15<00:19, 45.16it/s]\u001b[A\n",
      " 41%|██████████████████████████████████████████████████████████████████████████████████▎                                                                                                                        | 590/1454 [00:15<00:19, 43.97it/s]\u001b[A\n",
      " 41%|███████████████████████████████████████████████████████████████████████████████████                                                                                                                        | 595/1454 [00:15<00:19, 43.83it/s]\u001b[A\n",
      " 41%|███████████████████████████████████████████████████████████████████████████████████▉                                                                                                                       | 601/1454 [00:15<00:19, 44.37it/s]\u001b[A\n",
      " 42%|████████████████████████████████████████████████████████████████████████████████████▌                                                                                                                      | 606/1454 [00:15<00:19, 42.88it/s]\u001b[A\n",
      " 42%|█████████████████████████████████████████████████████████████████████████████████████▎                                                                                                                     | 611/1454 [00:15<00:19, 43.26it/s]\u001b[A\n",
      " 42%|██████████████████████████████████████████████████████████████████████████████████████                                                                                                                     | 616/1454 [00:16<00:21, 39.84it/s]\u001b[A\n",
      " 43%|██████████████████████████████████████████████████████████████████████████████████████▋                                                                                                                    | 621/1454 [00:16<00:19, 41.79it/s]\u001b[A\n",
      " 43%|███████████████████████████████████████████████████████████████████████████████████████▍                                                                                                                   | 626/1454 [00:16<00:20, 40.29it/s]\u001b[A\n",
      " 44%|████████████████████████████████████████████████████████████████████████████████████████▍                                                                                                                  | 633/1454 [00:16<00:17, 46.58it/s]\u001b[A\n",
      " 44%|█████████████████████████████████████████████████████████████████████████████████████████▉                                                                                                                 | 644/1454 [00:16<00:14, 55.05it/s]\u001b[A\n",
      " 45%|██████████████████████████████████████████████████████████████████████████████████████████▋                                                                                                                | 650/1454 [00:16<00:15, 52.13it/s]\u001b[A\n",
      " 45%|███████████████████████████████████████████████████████████████████████████████████████████▌                                                                                                               | 656/1454 [00:16<00:18, 42.78it/s]\u001b[A\n",
      " 46%|████████████████████████████████████████████████████████████████████████████████████████████▊                                                                                                              | 665/1454 [00:16<00:16, 48.83it/s]\u001b[A\n",
      " 46%|█████████████████████████████████████████████████████████████████████████████████████████████▋                                                                                                             | 671/1454 [00:17<00:20, 38.19it/s]\u001b[A\n",
      " 46%|██████████████████████████████████████████████████████████████████████████████████████████████▍                                                                                                            | 676/1454 [00:17<00:19, 40.38it/s]\u001b[A\n",
      " 47%|███████████████████████████████████████████████████████████████████████████████████████████████                                                                                                            | 681/1454 [00:17<00:18, 41.54it/s]\u001b[A\n",
      " 47%|███████████████████████████████████████████████████████████████████████████████████████████████▊                                                                                                           | 686/1454 [00:17<00:20, 37.84it/s]\u001b[A\n",
      " 48%|█████████████████████████████████████████████████████████████████████████████████████████████████▏                                                                                                         | 696/1454 [00:17<00:15, 49.11it/s]\u001b[A\n",
      " 48%|██████████████████████████████████████████████████████████████████████████████████████████████████                                                                                                         | 702/1454 [00:17<00:16, 46.73it/s]\u001b[A\n",
      " 49%|██████████████████████████████████████████████████████████████████████████████████████████████████▋                                                                                                        | 707/1454 [00:18<00:18, 41.19it/s]\u001b[A\n",
      " 49%|███████████████████████████████████████████████████████████████████████████████████████████████████▍                                                                                                       | 712/1454 [00:18<00:20, 37.05it/s]\u001b[A\n",
      " 49%|███████████████████████████████████████████████████████████████████████████████████████████████████▉                                                                                                       | 716/1454 [00:18<00:20, 36.52it/s]\u001b[A\n",
      " 50%|████████████████████████████████████████████████████████████████████████████████████████████████████▌                                                                                                      | 720/1454 [00:18<00:22, 32.49it/s]\u001b[A\n",
      " 50%|██████████████████████████████████████████████████████████████████████████████████████████████████████                                                                                                     | 731/1454 [00:18<00:15, 45.94it/s]\u001b[A\n",
      " 51%|██████████████████████████████████████████████████████████████████████████████████████████████████████▊                                                                                                    | 736/1454 [00:18<00:17, 40.32it/s]\u001b[A\n",
      " 51%|███████████████████████████████████████████████████████████████████████████████████████████████████████▋                                                                                                   | 743/1454 [00:18<00:15, 46.52it/s]\u001b[A\n",
      " 52%|████████████████████████████████████████████████████████████████████████████████████████████████████████▌                                                                                                  | 749/1454 [00:19<00:14, 49.31it/s]\u001b[A\n",
      " 52%|█████████████████████████████████████████████████████████████████████████████████████████████████████████▍                                                                                                 | 755/1454 [00:19<00:16, 41.20it/s]\u001b[A\n",
      " 53%|██████████████████████████████████████████████████████████████████████████████████████████████████████████▋                                                                                                | 764/1454 [00:19<00:13, 50.70it/s]\u001b[A\n",
      " 53%|███████████████████████████████████████████████████████████████████████████████████████████████████████████▌                                                                                               | 770/1454 [00:19<00:14, 45.85it/s]\u001b[A\n",
      " 53%|████████████████████████████████████████████████████████████████████████████████████████████████████████████▎                                                                                              | 776/1454 [00:19<00:15, 42.41it/s]\u001b[A\n",
      " 54%|█████████████████████████████████████████████████████████████████████████████████████████████████████████████▏                                                                                             | 782/1454 [00:19<00:15, 43.53it/s]\u001b[A\n",
      " 54%|█████████████████████████████████████████████████████████████████████████████████████████████████████████████▉                                                                                             | 787/1454 [00:20<00:20, 33.06it/s]\u001b[A\n",
      " 55%|██████████████████████████████████████████████████████████████████████████████████████████████████████████████▊                                                                                            | 794/1454 [00:20<00:16, 39.84it/s]\u001b[A\n",
      " 55%|███████████████████████████████████████████████████████████████████████████████████████████████████████████████▉                                                                                           | 802/1454 [00:20<00:14, 46.03it/s]\u001b[A\n",
      " 56%|█████████████████████████████████████████████████████████████████████████████████████████████████████████████████                                                                                          | 810/1454 [00:20<00:12, 51.06it/s]\u001b[A\n",
      " 56%|█████████████████████████████████████████████████████████████████████████████████████████████████████████████████▉                                                                                         | 816/1454 [00:20<00:12, 49.83it/s]\u001b[A\n",
      " 57%|██████████████████████████████████████████████████████████████████████████████████████████████████████████████████▊                                                                                        | 822/1454 [00:20<00:12, 49.38it/s]\u001b[A\n",
      " 57%|███████████████████████████████████████████████████████████████████████████████████████████████████████████████████▌                                                                                       | 828/1454 [00:20<00:17, 34.80it/s]\u001b[A\n",
      " 58%|█████████████████████████████████████████████████████████████████████████████████████████████████████████████████████▏                                                                                     | 839/1454 [00:21<00:12, 48.99it/s]\u001b[A\n",
      " 58%|██████████████████████████████████████████████████████████████████████████████████████████████████████████████████████▍                                                                                    | 848/1454 [00:21<00:11, 54.19it/s]\u001b[A\n",
      " 59%|███████████████████████████████████████████████████████████████████████████████████████████████████████████████████████▋                                                                                   | 857/1454 [00:21<00:11, 53.98it/s]\u001b[A\n",
      " 59%|████████████████████████████████████████████████████████████████████████████████████████████████████████████████████████▋                                                                                  | 864/1454 [00:21<00:13, 44.36it/s]\u001b[A\n",
      " 60%|█████████████████████████████████████████████████████████████████████████████████████████████████████████████████████████▍                                                                                 | 870/1454 [00:21<00:14, 39.35it/s]\u001b[A\n",
      " 60%|██████████████████████████████████████████████████████████████████████████████████████████████████████████████████████████▏                                                                                | 875/1454 [00:21<00:15, 36.47it/s]\u001b[A\n",
      " 61%|██████████████████████████████████████████████████████████████████████████████████████████████████████████████████████████▊                                                                                | 880/1454 [00:22<00:16, 34.17it/s]\u001b[A\n",
      " 61%|███████████████████████████████████████████████████████████████████████████████████████████████████████████████████████████▍                                                                               | 884/1454 [00:22<00:17, 33.25it/s]\u001b[A\n",
      " 61%|████████████████████████████████████████████████████████████████████████████████████████████████████████████████████████████                                                                               | 889/1454 [00:22<00:17, 33.03it/s]\u001b[A\n",
      " 62%|█████████████████████████████████████████████████████████████████████████████████████████████████████████████████████████████▌                                                                             | 899/1454 [00:22<00:12, 45.57it/s]\u001b[A\n",
      " 62%|██████████████████████████████████████████████████████████████████████████████████████████████████████████████████████████████▏                                                                            | 904/1454 [00:22<00:11, 45.97it/s]\u001b[A\n",
      " 63%|██████████████████████████████████████████████████████████████████████████████████████████████████████████████████████████████▉                                                                            | 909/1454 [00:22<00:17, 31.75it/s]\u001b[A\n",
      " 63%|████████████████████████████████████████████████████████████████████████████████████████████████████████████████████████████████▏                                                                          | 918/1454 [00:23<00:12, 42.72it/s]\u001b[A\n",
      " 64%|█████████████████████████████████████████████████████████████████████████████████████████████████████████████████████████████████                                                                          | 924/1454 [00:23<00:12, 40.83it/s]\u001b[A\n",
      " 64%|█████████████████████████████████████████████████████████████████████████████████████████████████████████████████████████████████▉                                                                         | 931/1454 [00:23<00:11, 46.25it/s]\u001b[A\n",
      " 64%|██████████████████████████████████████████████████████████████████████████████████████████████████████████████████████████████████▊                                                                        | 937/1454 [00:23<00:10, 48.75it/s]\u001b[A\n",
      " 65%|███████████████████████████████████████████████████████████████████████████████████████████████████████████████████████████████████▉                                                                       | 945/1454 [00:23<00:09, 54.70it/s]\u001b[A\n",
      " 65%|████████████████████████████████████████████████████████████████████████████████████████████████████████████████████████████████████▊                                                                      | 951/1454 [00:23<00:09, 53.33it/s]\u001b[A\n",
      " 66%|█████████████████████████████████████████████████████████████████████████████████████████████████████████████████████████████████████▌                                                                     | 957/1454 [00:23<00:11, 44.98it/s]\u001b[A\n",
      " 66%|██████████████████████████████████████████████████████████████████████████████████████████████████████████████████████████████████████▌                                                                    | 964/1454 [00:24<00:10, 45.60it/s]\u001b[A\n",
      " 67%|███████████████████████████████████████████████████████████████████████████████████████████████████████████████████████████████████████▎                                                                   | 969/1454 [00:24<00:12, 38.35it/s]\u001b[A\n",
      " 67%|███████████████████████████████████████████████████████████████████████████████████████████████████████████████████████████████████████▉                                                                   | 974/1454 [00:24<00:13, 36.74it/s]\u001b[A\n",
      " 67%|████████████████████████████████████████████████████████████████████████████████████████████████████████████████████████████████████████▋                                                                  | 979/1454 [00:24<00:12, 36.76it/s]\u001b[A\n",
      " 68%|█████████████████████████████████████████████████████████████████████████████████████████████████████████████████████████████████████████▏                                                                 | 983/1454 [00:24<00:13, 36.23it/s]\u001b[A\n",
      " 68%|█████████████████████████████████████████████████████████████████████████████████████████████████████████████████████████████████████████▉                                                                 | 988/1454 [00:24<00:12, 38.33it/s]\u001b[A\n",
      " 69%|███████████████████████████████████████████████████████████████████████████████████████████████████████████████████████████████████████████▏                                                               | 997/1454 [00:24<00:09, 46.62it/s]\u001b[A\n",
      " 69%|███████████████████████████████████████████████████████████████████████████████████████████████████████████████████████████████████████████▏                                                              | 1002/1454 [00:25<00:11, 39.45it/s]\u001b[A\n",
      " 70%|████████████████████████████████████████████████████████████████████████████████████████████████████████████████████████████████████████████▊                                                             | 1014/1454 [00:25<00:07, 57.30it/s]\u001b[A\n",
      " 70%|█████████████████████████████████████████████████████████████████████████████████████████████████████████████████████████████████████████████▊                                                            | 1021/1454 [00:25<00:08, 52.81it/s]\u001b[A\n",
      " 71%|███████████████████████████████████████████████████████████████████████████████████████████████████████████████████████████████████████████████▌                                                          | 1033/1454 [00:25<00:06, 67.91it/s]\u001b[A\n",
      " 72%|████████████████████████████████████████████████████████████████████████████████████████████████████████████████████████████████████████████████▌                                                         | 1041/1454 [00:25<00:07, 55.66it/s]\u001b[A\n",
      " 72%|██████████████████████████████████████████████████████████████████████████████████████████████████████████████████████████████████████████████████▎                                                       | 1053/1454 [00:25<00:05, 69.44it/s]\u001b[A\n",
      " 73%|███████████████████████████████████████████████████████████████████████████████████████████████████████████████████████████████████████████████████▌                                                      | 1062/1454 [00:25<00:07, 55.95it/s]\u001b[A\n",
      " 74%|████████████████████████████████████████████████████████████████████████████████████████████████████████████████████████████████████████████████████▌                                                     | 1069/1454 [00:26<00:07, 52.59it/s]\u001b[A\n",
      " 74%|█████████████████████████████████████████████████████████████████████████████████████████████████████████████████████████████████████████████████████▍                                                    | 1076/1454 [00:26<00:07, 52.86it/s]\u001b[A\n",
      " 74%|██████████████████████████████████████████████████████████████████████████████████████████████████████████████████████████████████████████████████████▎                                                   | 1082/1454 [00:26<00:07, 52.71it/s]\u001b[A\n",
      " 75%|███████████████████████████████████████████████████████████████████████████████████████████████████████████████████████████████████████████████████████▏                                                  | 1088/1454 [00:26<00:09, 40.35it/s]\u001b[A\n",
      " 75%|███████████████████████████████████████████████████████████████████████████████████████████████████████████████████████████████████████████████████████▊                                                  | 1093/1454 [00:26<00:10, 35.98it/s]\u001b[A\n",
      " 76%|████████████████████████████████████████████████████████████████████████████████████████████████████████████████████████████████████████████████████████▌                                                 | 1098/1454 [00:26<00:10, 34.69it/s]\u001b[A\n",
      " 76%|█████████████████████████████████████████████████████████████████████████████████████████████████████████████████████████████████████████████████████████▋                                                | 1106/1454 [00:27<00:08, 42.68it/s]\u001b[A\n",
      " 77%|██████████████████████████████████████████████████████████████████████████████████████████████████████████████████████████████████████████████████████████▋                                               | 1113/1454 [00:27<00:07, 44.33it/s]\u001b[A\n",
      " 77%|███████████████████████████████████████████████████████████████████████████████████████████████████████████████████████████████████████████████████████████▍                                              | 1119/1454 [00:27<00:07, 43.99it/s]\u001b[A\n",
      " 77%|████████████████████████████████████████████████████████████████████████████████████████████████████████████████████████████████████████████████████████████▏                                             | 1124/1454 [00:27<00:07, 42.48it/s]\u001b[A\n",
      " 78%|█████████████████████████████████████████████████████████████████████████████████████████████████████████████████████████████████████████████████████████████▎                                            | 1132/1454 [00:27<00:06, 51.13it/s]\u001b[A\n",
      " 78%|██████████████████████████████████████████████████████████████████████████████████████████████████████████████████████████████████████████████████████████████                                            | 1138/1454 [00:27<00:06, 52.08it/s]\u001b[A\n",
      " 79%|██████████████████████████████████████████████████████████████████████████████████████████████████████████████████████████████████████████████████████████████▉                                           | 1144/1454 [00:27<00:05, 53.28it/s]\u001b[A\n",
      " 79%|████████████████████████████████████████████████████████████████████████████████████████████████████████████████████████████████████████████████████████████████▏                                         | 1153/1454 [00:27<00:05, 56.80it/s]\u001b[A\n",
      " 80%|█████████████████████████████████████████████████████████████████████████████████████████████████████████████████████████████████████████████████████████████████▍                                        | 1162/1454 [00:28<00:04, 61.19it/s]\u001b[A\n",
      " 80%|██████████████████████████████████████████████████████████████████████████████████████████████████████████████████████████████████████████████████████████████████▍                                       | 1169/1454 [00:28<00:06, 43.69it/s]\u001b[A\n",
      " 81%|███████████████████████████████████████████████████████████████████████████████████████████████████████████████████████████████████████████████████████████████████▍                                      | 1176/1454 [00:28<00:05, 48.43it/s]\u001b[A\n",
      " 81%|████████████████████████████████████████████████████████████████████████████████████████████████████████████████████████████████████████████████████████████████████▏                                     | 1182/1454 [00:28<00:07, 36.39it/s]\u001b[A\n",
      " 82%|█████████████████████████████████████████████████████████████████████████████████████████████████████████████████████████████████████████████████████████████████████▏                                    | 1189/1454 [00:28<00:06, 41.36it/s]\u001b[A\n",
      " 82%|██████████████████████████████████████████████████████████████████████████████████████████████████████████████████████████████████████████████████████████████████████                                    | 1195/1454 [00:28<00:05, 44.43it/s]\u001b[A\n",
      " 83%|██████████████████████████████████████████████████████████████████████████████████████████████████████████████████████████████████████████████████████████████████████▊                                   | 1201/1454 [00:29<00:05, 42.33it/s]\u001b[A\n",
      " 83%|███████████████████████████████████████████████████████████████████████████████████████████████████████████████████████████████████████████████████████████████████████▌                                  | 1206/1454 [00:29<00:06, 39.95it/s]\u001b[A\n",
      " 84%|████████████████████████████████████████████████████████████████████████████████████████████████████████████████████████████████████████████████████████████████████████▊                                 | 1215/1454 [00:29<00:05, 47.06it/s]\u001b[A\n",
      " 84%|█████████████████████████████████████████████████████████████████████████████████████████████████████████████████████████████████████████████████████████████████████████▍                                | 1220/1454 [00:29<00:05, 45.51it/s]\u001b[A\n",
      " 84%|██████████████████████████████████████████████████████████████████████████████████████████████████████████████████████████████████████████████████████████████████████████▏                               | 1225/1454 [00:29<00:04, 46.16it/s]\u001b[A\n",
      " 85%|███████████████████████████████████████████████████████████████████████████████████████████████████████████████████████████████████████████████████████████████████████████▌                              | 1235/1454 [00:29<00:04, 52.10it/s]\u001b[A\n",
      " 85%|████████████████████████████████████████████████████████████████████████████████████████████████████████████████████████████████████████████████████████████████████████████▍                             | 1241/1454 [00:29<00:04, 50.25it/s]\u001b[A\n",
      " 86%|█████████████████████████████████████████████████████████████████████████████████████████████████████████████████████████████████████████████████████████████████████████████▋                            | 1250/1454 [00:30<00:03, 58.99it/s]\u001b[A\n",
      " 87%|██████████████████████████████████████████████████████████████████████████████████████████████████████████████████████████████████████████████████████████████████████████████▊                           | 1258/1454 [00:30<00:03, 62.61it/s]\u001b[A\n",
      " 87%|███████████████████████████████████████████████████████████████████████████████████████████████████████████████████████████████████████████████████████████████████████████████▋                          | 1265/1454 [00:30<00:04, 46.35it/s]\u001b[A\n",
      " 87%|████████████████████████████████████████████████████████████████████████████████████████████████████████████████████████████████████████████████████████████████████████████████▌                         | 1271/1454 [00:30<00:04, 37.21it/s]\u001b[A\n",
      " 88%|█████████████████████████████████████████████████████████████████████████████████████████████████████████████████████████████████████████████████████████████████████████████████▎                        | 1276/1454 [00:30<00:04, 36.91it/s]\u001b[A\n",
      " 88%|██████████████████████████████████████████████████████████████████████████████████████████████████████████████████████████████████████████████████████████████████████████████████                        | 1282/1454 [00:30<00:04, 38.90it/s]\u001b[A\n",
      " 89%|███████████████████████████████████████████████████████████████████████████████████████████████████████████████████████████████████████████████████████████████████████████████████▎                      | 1291/1454 [00:31<00:03, 48.59it/s]\u001b[A\n",
      " 89%|████████████████████████████████████████████████████████████████████████████████████████████████████████████████████████████████████████████████████████████████████████████████████▏                     | 1297/1454 [00:31<00:04, 37.23it/s]\u001b[A\n",
      " 90%|████████████████████████████████████████████████████████████████████████████████████████████████████████████████████████████████████████████████████████████████████████████████████▉                     | 1302/1454 [00:31<00:04, 36.79it/s]\u001b[A\n",
      " 90%|█████████████████████████████████████████████████████████████████████████████████████████████████████████████████████████████████████████████████████████████████████████████████████▋                    | 1308/1454 [00:31<00:03, 39.87it/s]\u001b[A\n",
      " 90%|██████████████████████████████████████████████████████████████████████████████████████████████████████████████████████████████████████████████████████████████████████████████████████▍                   | 1313/1454 [00:31<00:03, 41.16it/s]\u001b[A\n",
      " 91%|███████████████████████████████████████████████████████████████████████████████████████████████████████████████████████████████████████████████████████████████████████████████████████▏                  | 1319/1454 [00:31<00:03, 43.89it/s]\u001b[A\n",
      " 92%|█████████████████████████████████████████████████████████████████████████████████████████████████████████████████████████████████████████████████████████████████████████████████████████                 | 1332/1454 [00:31<00:01, 61.53it/s]\u001b[A\n",
      " 92%|██████████████████████████████████████████████████████████████████████████████████████████████████████████████████████████████████████████████████████████████████████████████████████████                | 1339/1454 [00:32<00:01, 59.30it/s]\u001b[A\n",
      " 93%|██████████████████████████████████████████████████████████████████████████████████████████████████████████████████████████████████████████████████████████████████████████████████████████▉               | 1346/1454 [00:32<00:01, 58.39it/s]\u001b[A\n",
      " 93%|███████████████████████████████████████████████████████████████████████████████████████████████████████████████████████████████████████████████████████████████████████████████████████████▉              | 1353/1454 [00:32<00:01, 53.57it/s]\u001b[A\n",
      " 93%|████████████████████████████████████████████████████████████████████████████████████████████████████████████████████████████████████████████████████████████████████████████████████████████▊             | 1359/1454 [00:32<00:02, 35.51it/s]\u001b[A\n",
      " 94%|█████████████████████████████████████████████████████████████████████████████████████████████████████████████████████████████████████████████████████████████████████████████████████████████▍            | 1364/1454 [00:32<00:02, 36.55it/s]\u001b[A\n",
      " 94%|██████████████████████████████████████████████████████████████████████████████████████████████████████████████████████████████████████████████████████████████████████████████████████████████▏           | 1369/1454 [00:32<00:02, 37.51it/s]\u001b[A\n",
      " 94%|██████████████████████████████████████████████████████████████████████████████████████████████████████████████████████████████████████████████████████████████████████████████████████████████▉           | 1374/1454 [00:33<00:02, 37.05it/s]\u001b[A\n",
      " 95%|███████████████████████████████████████████████████████████████████████████████████████████████████████████████████████████████████████████████████████████████████████████████████████████████▉          | 1382/1454 [00:33<00:01, 45.87it/s]\u001b[A\n",
      " 95%|████████████████████████████████████████████████████████████████████████████████████████████████████████████████████████████████████████████████████████████████████████████████████████████████▊         | 1388/1454 [00:33<00:01, 38.08it/s]\u001b[A\n",
      " 96%|█████████████████████████████████████████████████████████████████████████████████████████████████████████████████████████████████████████████████████████████████████████████████████████████████▉        | 1396/1454 [00:33<00:01, 46.28it/s]\u001b[A\n",
      " 96%|██████████████████████████████████████████████████████████████████████████████████████████████████████████████████████████████████████████████████████████████████████████████████████████████████▊       | 1402/1454 [00:33<00:01, 40.67it/s]\u001b[A\n",
      " 97%|███████████████████████████████████████████████████████████████████████████████████████████████████████████████████████████████████████████████████████████████████████████████████████████████████▉      | 1410/1454 [00:33<00:00, 46.94it/s]\u001b[A\n",
      " 97%|████████████████████████████████████████████████████████████████████████████████████████████████████████████████████████████████████████████████████████████████████████████████████████████████████▋     | 1416/1454 [00:33<00:00, 42.48it/s]\u001b[A\n",
      " 98%|█████████████████████████████████████████████████████████████████████████████████████████████████████████████████████████████████████████████████████████████████████████████████████████████████████▋    | 1423/1454 [00:34<00:00, 46.05it/s]\u001b[A\n",
      " 98%|██████████████████████████████████████████████████████████████████████████████████████████████████████████████████████████████████████████████████████████████████████████████████████████████████████▍   | 1428/1454 [00:34<00:00, 40.15it/s]\u001b[A\n",
      " 99%|███████████████████████████████████████████████████████████████████████████████████████████████████████████████████████████████████████████████████████████████████████████████████████████████████████   | 1433/1454 [00:34<00:00, 40.91it/s]\u001b[A\n",
      " 99%|███████████████████████████████████████████████████████████████████████████████████████████████████████████████████████████████████████████████████████████████████████████████████████████████████████▊  | 1438/1454 [00:34<00:00, 41.03it/s]\u001b[A\n",
      " 99%|████████████████████████████████████████████████████████████████████████████████████████████████████████████████████████████████████████████████████████████████████████████████████████████████████████▌ | 1444/1454 [00:34<00:00, 44.35it/s]\u001b[A\n",
      "100%|█████████████████████████████████████████████████████████████████████████████████████████████████████████████████████████████████████████████████████████████████████████████████████████████████████████▎| 1449/1454 [00:34<00:00, 37.44it/s]\u001b[A\n",
      "100%|██████████████████████████████████████████████████████████████████████████████████████████████████████████████████████████████████████████████████████████████████████████████████████████████████████████| 1454/1454 [00:34<00:00, 41.58it/s]\u001b[A\n",
      "Partitioning splits:  67%|████████████████████████████████████████████████████████████████████████████████████████████████████████████████████████████▋                                                              | 2/3 [02:27<01:10, 70.75s/it]\n",
      "  0%|                                                                                                                                                                                                                     | 0/1090 [00:00<?, ?it/s]\u001b[A\n",
      "  0%|▊                                                                                                                                                                                                            | 4/1090 [00:00<00:35, 30.48it/s]\u001b[A\n",
      "  1%|█▌                                                                                                                                                                                                           | 8/1090 [00:00<00:43, 24.85it/s]\u001b[A\n",
      "  1%|██                                                                                                                                                                                                          | 11/1090 [00:00<00:48, 22.28it/s]\u001b[A\n",
      "  1%|██▌                                                                                                                                                                                                         | 14/1090 [00:00<00:49, 21.61it/s]\u001b[A\n",
      "  2%|███▏                                                                                                                                                                                                        | 17/1090 [00:00<00:51, 21.01it/s]\u001b[A\n",
      "  2%|███▋                                                                                                                                                                                                        | 20/1090 [00:00<00:47, 22.73it/s]\u001b[A\n",
      "  2%|████▎                                                                                                                                                                                                       | 23/1090 [00:00<00:45, 23.69it/s]\u001b[A\n",
      "  2%|████▊                                                                                                                                                                                                       | 26/1090 [00:01<00:42, 24.79it/s]\u001b[A\n",
      "  3%|█████▍                                                                                                                                                                                                      | 29/1090 [00:01<00:42, 25.23it/s]\u001b[A\n",
      "  3%|█████▉                                                                                                                                                                                                      | 32/1090 [00:01<00:41, 25.54it/s]\u001b[A\n",
      "  3%|██████▌                                                                                                                                                                                                     | 35/1090 [00:01<00:40, 26.16it/s]\u001b[A\n",
      "  3%|███████                                                                                                                                                                                                     | 38/1090 [00:01<00:38, 27.10it/s]\u001b[A\n",
      "  4%|███████▋                                                                                                                                                                                                    | 41/1090 [00:01<00:40, 26.15it/s]\u001b[A\n",
      "  4%|████████▏                                                                                                                                                                                                   | 44/1090 [00:01<00:44, 23.48it/s]\u001b[A\n",
      "  4%|████████▊                                                                                                                                                                                                   | 47/1090 [00:01<00:42, 24.26it/s]\u001b[A\n",
      "  5%|█████████▌                                                                                                                                                                                                  | 51/1090 [00:02<00:41, 25.16it/s]\u001b[A\n",
      "  5%|██████████▍                                                                                                                                                                                                 | 56/1090 [00:02<00:33, 31.08it/s]\u001b[A\n",
      "  6%|███████████▏                                                                                                                                                                                                | 60/1090 [00:02<00:40, 25.54it/s]\u001b[A\n",
      "  6%|███████████▉                                                                                                                                                                                                | 64/1090 [00:02<00:36, 28.49it/s]\u001b[A\n",
      "  6%|████████████▋                                                                                                                                                                                               | 68/1090 [00:02<00:37, 27.33it/s]\u001b[A\n",
      "  7%|█████████████▍                                                                                                                                                                                              | 72/1090 [00:02<00:36, 28.14it/s]\u001b[A\n",
      "  7%|██████████████                                                                                                                                                                                              | 75/1090 [00:02<00:38, 26.10it/s]\u001b[A\n",
      "  7%|██████████████▊                                                                                                                                                                                             | 79/1090 [00:03<00:34, 29.35it/s]\u001b[A\n",
      "  8%|███████████████▉                                                                                                                                                                                            | 85/1090 [00:03<00:32, 31.27it/s]\u001b[A\n",
      "  8%|████████████████▊                                                                                                                                                                                           | 90/1090 [00:03<00:30, 33.25it/s]\u001b[A\n",
      "  9%|█████████████████▌                                                                                                                                                                                          | 94/1090 [00:03<00:31, 31.74it/s]\u001b[A\n",
      "  9%|██████████████████▎                                                                                                                                                                                         | 98/1090 [00:03<00:35, 27.86it/s]\u001b[A\n",
      "  9%|██████████████████▊                                                                                                                                                                                        | 101/1090 [00:03<00:36, 27.01it/s]\u001b[A\n",
      " 10%|███████████████████▉                                                                                                                                                                                       | 107/1090 [00:03<00:30, 32.41it/s]\u001b[A\n",
      " 10%|████████████████████▋                                                                                                                                                                                      | 111/1090 [00:04<00:30, 32.27it/s]\u001b[A\n",
      " 11%|█████████████████████▍                                                                                                                                                                                     | 115/1090 [00:04<00:30, 31.88it/s]\u001b[A\n",
      " 11%|██████████████████████▏                                                                                                                                                                                    | 119/1090 [00:04<00:30, 32.17it/s]\u001b[A\n",
      " 11%|██████████████████████▉                                                                                                                                                                                    | 123/1090 [00:04<00:32, 29.69it/s]\u001b[A\n",
      " 12%|███████████████████████▋                                                                                                                                                                                   | 127/1090 [00:04<00:33, 28.50it/s]\u001b[A\n",
      " 12%|████████████████████████▏                                                                                                                                                                                  | 130/1090 [00:04<00:34, 28.21it/s]\u001b[A\n",
      " 12%|█████████████████████████▏                                                                                                                                                                                 | 135/1090 [00:04<00:31, 30.75it/s]\u001b[A\n",
      " 13%|█████████████████████████▉                                                                                                                                                                                 | 139/1090 [00:05<00:35, 26.93it/s]\u001b[A\n",
      " 13%|██████████████████████████▍                                                                                                                                                                                | 142/1090 [00:05<00:36, 25.78it/s]\u001b[A\n",
      " 13%|███████████████████████████▏                                                                                                                                                                               | 146/1090 [00:05<00:34, 27.66it/s]\u001b[A\n",
      " 14%|███████████████████████████▋                                                                                                                                                                               | 149/1090 [00:05<00:41, 22.41it/s]\u001b[A\n",
      " 14%|████████████████████████████▍                                                                                                                                                                              | 153/1090 [00:05<00:36, 25.89it/s]\u001b[A\n",
      " 14%|█████████████████████████████▏                                                                                                                                                                             | 157/1090 [00:05<00:33, 27.52it/s]\u001b[A\n",
      " 15%|█████████████████████████████▉                                                                                                                                                                             | 161/1090 [00:05<00:32, 28.84it/s]\u001b[A\n",
      " 15%|██████████████████████████████▋                                                                                                                                                                            | 165/1090 [00:06<00:31, 29.53it/s]\u001b[A\n",
      " 16%|███████████████████████████████▍                                                                                                                                                                           | 169/1090 [00:06<00:33, 27.75it/s]\u001b[A\n",
      " 16%|████████████████████████████████                                                                                                                                                                           | 172/1090 [00:06<00:32, 28.06it/s]\u001b[A\n",
      " 16%|████████████████████████████████▌                                                                                                                                                                          | 175/1090 [00:06<00:34, 26.54it/s]\u001b[A\n",
      " 16%|█████████████████████████████████▏                                                                                                                                                                         | 178/1090 [00:06<00:38, 23.69it/s]\u001b[A\n",
      " 17%|██████████████████████████████████                                                                                                                                                                         | 183/1090 [00:06<00:38, 23.74it/s]\u001b[A\n",
      " 17%|██████████████████████████████████▋                                                                                                                                                                        | 186/1090 [00:06<00:36, 24.62it/s]\u001b[A\n",
      " 18%|███████████████████████████████████▊                                                                                                                                                                       | 192/1090 [00:07<00:30, 29.06it/s]\u001b[A\n",
      " 18%|████████████████████████████████████▉                                                                                                                                                                      | 198/1090 [00:07<00:28, 31.74it/s]\u001b[A\n",
      " 19%|█████████████████████████████████████▌                                                                                                                                                                     | 202/1090 [00:07<00:26, 32.98it/s]\u001b[A\n",
      " 19%|██████████████████████████████████████▎                                                                                                                                                                    | 206/1090 [00:07<00:27, 32.23it/s]\u001b[A\n",
      " 19%|███████████████████████████████████████                                                                                                                                                                    | 210/1090 [00:07<00:28, 30.70it/s]\u001b[A\n",
      " 20%|███████████████████████████████████████▊                                                                                                                                                                   | 214/1090 [00:07<00:30, 28.48it/s]\u001b[A\n",
      " 20%|████████████████████████████████████████▌                                                                                                                                                                  | 218/1090 [00:07<00:29, 30.00it/s]\u001b[A\n",
      " 20%|█████████████████████████████████████████▎                                                                                                                                                                 | 222/1090 [00:08<00:34, 25.25it/s]\u001b[A\n",
      " 21%|█████████████████████████████████████████▉                                                                                                                                                                 | 225/1090 [00:08<00:37, 23.13it/s]\u001b[A\n",
      " 21%|██████████████████████████████████████████▍                                                                                                                                                                | 228/1090 [00:08<00:36, 23.32it/s]\u001b[A\n",
      " 21%|███████████████████████████████████████████                                                                                                                                                                | 231/1090 [00:08<00:36, 23.23it/s]\u001b[A\n",
      " 21%|███████████████████████████████████████████▌                                                                                                                                                               | 234/1090 [00:08<00:34, 24.61it/s]\u001b[A\n",
      " 22%|████████████████████████████████████████████▎                                                                                                                                                              | 238/1090 [00:08<00:30, 27.99it/s]\u001b[A\n",
      " 22%|█████████████████████████████████████████████                                                                                                                                                              | 242/1090 [00:08<00:31, 27.27it/s]\u001b[A\n",
      " 23%|█████████████████████████████████████████████▊                                                                                                                                                             | 246/1090 [00:08<00:29, 28.97it/s]\u001b[A\n",
      " 23%|██████████████████████████████████████████████▌                                                                                                                                                            | 250/1090 [00:09<00:29, 28.34it/s]\u001b[A\n",
      " 23%|███████████████████████████████████████████████                                                                                                                                                            | 253/1090 [00:09<00:35, 23.36it/s]\u001b[A\n",
      " 24%|███████████████████████████████████████████████▊                                                                                                                                                           | 257/1090 [00:09<00:33, 24.99it/s]\u001b[A\n",
      " 24%|████████████████████████████████████████████████▍                                                                                                                                                          | 260/1090 [00:09<00:34, 24.17it/s]\u001b[A\n",
      " 24%|████████████████████████████████████████████████▉                                                                                                                                                          | 263/1090 [00:09<00:34, 23.92it/s]\u001b[A\n",
      " 24%|█████████████████████████████████████████████████▌                                                                                                                                                         | 266/1090 [00:09<00:35, 23.45it/s]\u001b[A\n",
      " 25%|██████████████████████████████████████████████████▎                                                                                                                                                        | 270/1090 [00:09<00:30, 26.68it/s]\u001b[A\n",
      " 25%|███████████████████████████████████████████████████                                                                                                                                                        | 274/1090 [00:10<00:30, 26.49it/s]\u001b[A\n",
      " 25%|███████████████████████████████████████████████████▌                                                                                                                                                       | 277/1090 [00:10<00:31, 25.94it/s]\u001b[A\n",
      " 26%|████████████████████████████████████████████████████▏                                                                                                                                                      | 280/1090 [00:10<00:34, 23.65it/s]\u001b[A\n",
      " 26%|█████████████████████████████████████████████████████                                                                                                                                                      | 285/1090 [00:10<00:28, 28.55it/s]\u001b[A\n",
      " 26%|█████████████████████████████████████████████████████▋                                                                                                                                                     | 288/1090 [00:10<00:27, 28.87it/s]\u001b[A\n",
      " 27%|██████████████████████████████████████████████████████▏                                                                                                                                                    | 291/1090 [00:10<00:34, 23.15it/s]\u001b[A\n",
      " 27%|███████████████████████████████████████████████████████▎                                                                                                                                                   | 297/1090 [00:10<00:25, 31.33it/s]\u001b[A\n",
      " 28%|████████████████████████████████████████████████████████                                                                                                                                                   | 301/1090 [00:11<00:26, 30.15it/s]\u001b[A\n",
      " 28%|████████████████████████████████████████████████████████▊                                                                                                                                                  | 305/1090 [00:11<00:27, 28.19it/s]\u001b[A\n",
      " 28%|█████████████████████████████████████████████████████████▌                                                                                                                                                 | 309/1090 [00:11<00:28, 27.32it/s]\u001b[A\n",
      " 29%|██████████████████████████████████████████████████████████                                                                                                                                                 | 312/1090 [00:11<00:30, 25.67it/s]\u001b[A\n",
      " 29%|██████████████████████████████████████████████████████████▋                                                                                                                                                | 315/1090 [00:11<00:31, 24.55it/s]\u001b[A\n",
      " 29%|███████████████████████████████████████████████████████████▌                                                                                                                                               | 320/1090 [00:11<00:25, 30.03it/s]\u001b[A\n",
      " 30%|████████████████████████████████████████████████████████████▎                                                                                                                                              | 324/1090 [00:11<00:25, 30.59it/s]\u001b[A\n",
      " 30%|█████████████████████████████████████████████████████████████▎                                                                                                                                             | 329/1090 [00:12<00:25, 29.42it/s]\u001b[A\n",
      " 31%|██████████████████████████████████████████████████████████████                                                                                                                                             | 333/1090 [00:12<00:30, 24.58it/s]\u001b[A\n",
      " 31%|██████████████████████████████████████████████████████████████▊                                                                                                                                            | 337/1090 [00:12<00:28, 26.76it/s]\u001b[A\n",
      " 31%|███████████████████████████████████████████████████████████████▌                                                                                                                                           | 341/1090 [00:12<00:26, 28.43it/s]\u001b[A\n",
      " 32%|████████████████████████████████████████████████████████████████▎                                                                                                                                          | 345/1090 [00:12<00:25, 29.31it/s]\u001b[A\n",
      " 32%|████████████████████████████████████████████████████████████████▉                                                                                                                                          | 349/1090 [00:12<00:27, 26.73it/s]\u001b[A\n",
      " 32%|█████████████████████████████████████████████████████████████████▋                                                                                                                                         | 353/1090 [00:12<00:25, 28.39it/s]\u001b[A\n",
      " 33%|██████████████████████████████████████████████████████████████████▎                                                                                                                                        | 356/1090 [00:13<00:31, 23.26it/s]\u001b[A\n",
      " 33%|███████████████████████████████████████████████████████████████████                                                                                                                                        | 360/1090 [00:13<00:29, 24.69it/s]\u001b[A\n",
      " 33%|███████████████████████████████████████████████████████████████████▌                                                                                                                                       | 363/1090 [00:13<00:32, 22.47it/s]\u001b[A\n",
      " 34%|████████████████████████████████████████████████████████████████████▌                                                                                                                                      | 368/1090 [00:13<00:26, 27.57it/s]\u001b[A\n",
      " 34%|█████████████████████████████████████████████████████████████████████                                                                                                                                      | 371/1090 [00:13<00:29, 24.57it/s]\u001b[A\n",
      " 34%|█████████████████████████████████████████████████████████████████████▋                                                                                                                                     | 374/1090 [00:13<00:29, 24.22it/s]\u001b[A\n",
      " 35%|██████████████████████████████████████████████████████████████████████▏                                                                                                                                    | 377/1090 [00:14<00:31, 22.40it/s]\u001b[A\n",
      " 35%|██████████████████████████████████████████████████████████████████████▊                                                                                                                                    | 380/1090 [00:14<00:32, 21.70it/s]\u001b[A\n",
      " 35%|███████████████████████████████████████████████████████████████████████▎                                                                                                                                   | 383/1090 [00:14<00:30, 22.86it/s]\u001b[A\n",
      " 35%|███████████████████████████████████████████████████████████████████████▉                                                                                                                                   | 386/1090 [00:14<00:32, 21.81it/s]\u001b[A\n",
      " 36%|████████████████████████████████████████████████████████████████████████▍                                                                                                                                  | 389/1090 [00:14<00:33, 20.65it/s]\u001b[A\n",
      " 36%|█████████████████████████████████████████████████████████████████████████▏                                                                                                                                 | 393/1090 [00:14<00:30, 23.00it/s]\u001b[A\n",
      " 36%|█████████████████████████████████████████████████████████████████████████▊                                                                                                                                 | 396/1090 [00:14<00:31, 22.28it/s]\u001b[A\n",
      " 37%|██████████████████████████████████████████████████████████████████████████▎                                                                                                                                | 399/1090 [00:15<00:32, 21.35it/s]\u001b[A\n",
      " 37%|███████████████████████████████████████████████████████████████████████████                                                                                                                                | 403/1090 [00:15<00:29, 23.49it/s]\u001b[A\n",
      " 37%|███████████████████████████████████████████████████████████████████████████▊                                                                                                                               | 407/1090 [00:15<00:26, 25.54it/s]\u001b[A\n",
      " 38%|████████████████████████████████████████████████████████████████████████████▉                                                                                                                              | 413/1090 [00:15<00:21, 31.70it/s]\u001b[A\n",
      " 38%|█████████████████████████████████████████████████████████████████████████████▋                                                                                                                             | 417/1090 [00:15<00:21, 31.19it/s]\u001b[A\n",
      " 39%|██████████████████████████████████████████████████████████████████████████████▍                                                                                                                            | 421/1090 [00:15<00:30, 21.79it/s]\u001b[A\n",
      " 39%|██████████████████████████████████████████████████████████████████████████████▉                                                                                                                            | 424/1090 [00:16<00:30, 21.71it/s]\u001b[A\n",
      " 39%|███████████████████████████████████████████████████████████████████████████████▌                                                                                                                           | 427/1090 [00:16<00:29, 22.51it/s]\u001b[A\n",
      " 39%|████████████████████████████████████████████████████████████████████████████████                                                                                                                           | 430/1090 [00:16<00:28, 22.80it/s]\u001b[A\n",
      " 40%|████████████████████████████████████████████████████████████████████████████████▋                                                                                                                          | 433/1090 [00:16<00:28, 23.42it/s]\u001b[A\n",
      " 40%|█████████████████████████████████████████████████████████████████████████████████▏                                                                                                                         | 436/1090 [00:16<00:27, 23.85it/s]\u001b[A\n",
      " 40%|█████████████████████████████████████████████████████████████████████████████████▊                                                                                                                         | 439/1090 [00:16<00:28, 22.69it/s]\u001b[A\n",
      " 41%|██████████████████████████████████████████████████████████████████████████████████▎                                                                                                                        | 442/1090 [00:16<00:27, 23.80it/s]\u001b[A\n",
      " 41%|██████████████████████████████████████████████████████████████████████████████████▉                                                                                                                        | 445/1090 [00:16<00:29, 21.88it/s]\u001b[A\n",
      " 41%|███████████████████████████████████████████████████████████████████████████████████▍                                                                                                                       | 448/1090 [00:17<00:27, 23.70it/s]\u001b[A\n",
      " 41%|███████████████████████████████████████████████████████████████████████████████████▉                                                                                                                       | 451/1090 [00:17<00:27, 23.08it/s]\u001b[A\n",
      " 42%|████████████████████████████████████████████████████████████████████████████████████▋                                                                                                                      | 455/1090 [00:17<00:26, 24.22it/s]\u001b[A\n",
      " 42%|█████████████████████████████████████████████████████████████████████████████████████▍                                                                                                                     | 459/1090 [00:17<00:22, 27.82it/s]\u001b[A\n",
      " 42%|██████████████████████████████████████████████████████████████████████████████████████▏                                                                                                                    | 463/1090 [00:17<00:20, 30.85it/s]\u001b[A\n",
      " 43%|██████████████████████████████████████████████████████████████████████████████████████▉                                                                                                                    | 467/1090 [00:17<00:20, 30.99it/s]\u001b[A\n",
      " 43%|███████████████████████████████████████████████████████████████████████████████████████▋                                                                                                                   | 471/1090 [00:17<00:20, 30.76it/s]\u001b[A\n",
      " 44%|████████████████████████████████████████████████████████████████████████████████████████▍                                                                                                                  | 475/1090 [00:18<00:22, 27.01it/s]\u001b[A\n",
      " 44%|█████████████████████████████████████████████████████████████████████████████████████████                                                                                                                  | 478/1090 [00:18<00:24, 25.19it/s]\u001b[A\n",
      " 44%|█████████████████████████████████████████████████████████████████████████████████████████▌                                                                                                                 | 481/1090 [00:18<00:26, 23.23it/s]\u001b[A\n",
      " 44%|██████████████████████████████████████████████████████████████████████████████████████████▏                                                                                                                | 484/1090 [00:18<00:27, 22.17it/s]\u001b[A\n",
      " 45%|██████████████████████████████████████████████████████████████████████████████████████████▋                                                                                                                | 487/1090 [00:18<00:26, 22.90it/s]\u001b[A\n",
      " 45%|███████████████████████████████████████████████████████████████████████████████████████████▍                                                                                                               | 491/1090 [00:18<00:24, 24.15it/s]\u001b[A\n",
      " 46%|████████████████████████████████████████████████████████████████████████████████████████████▎                                                                                                              | 496/1090 [00:18<00:20, 29.11it/s]\u001b[A\n",
      " 46%|█████████████████████████████████████████████████████████████████████████████████████████████                                                                                                              | 500/1090 [00:19<00:21, 27.96it/s]\u001b[A\n",
      " 46%|█████████████████████████████████████████████████████████████████████████████████████████████▊                                                                                                             | 504/1090 [00:19<00:20, 29.16it/s]\u001b[A\n",
      " 47%|██████████████████████████████████████████████████████████████████████████████████████████████▍                                                                                                            | 507/1090 [00:19<00:21, 27.28it/s]\u001b[A\n",
      " 47%|██████████████████████████████████████████████████████████████████████████████████████████████▉                                                                                                            | 510/1090 [00:19<00:27, 21.48it/s]\u001b[A\n",
      " 47%|███████████████████████████████████████████████████████████████████████████████████████████████▋                                                                                                           | 514/1090 [00:19<00:25, 22.43it/s]\u001b[A\n",
      " 47%|████████████████████████████████████████████████████████████████████████████████████████████████▎                                                                                                          | 517/1090 [00:19<00:25, 22.73it/s]\u001b[A\n",
      " 48%|█████████████████████████████████████████████████████████████████████████████████████████████████                                                                                                          | 521/1090 [00:19<00:21, 25.99it/s]\u001b[A\n",
      " 48%|██████████████████████████████████████████████████████████████████████████████████████████████████▏                                                                                                        | 527/1090 [00:19<00:16, 34.00it/s]\u001b[A\n",
      " 49%|██████████████████████████████████████████████████████████████████████████████████████████████████▉                                                                                                        | 531/1090 [00:20<00:17, 32.44it/s]\u001b[A\n",
      " 49%|███████████████████████████████████████████████████████████████████████████████████████████████████▋                                                                                                       | 535/1090 [00:20<00:19, 28.55it/s]\u001b[A\n",
      " 49%|████████████████████████████████████████████████████████████████████████████████████████████████████▍                                                                                                      | 539/1090 [00:20<00:21, 25.77it/s]\u001b[A\n",
      " 50%|████████████████████████████████████████████████████████████████████████████████████████████████████▉                                                                                                      | 542/1090 [00:20<00:22, 24.42it/s]\u001b[A\n",
      " 50%|█████████████████████████████████████████████████████████████████████████████████████████████████████▌                                                                                                     | 545/1090 [00:20<00:23, 22.82it/s]\u001b[A\n",
      " 50%|██████████████████████████████████████████████████████████████████████████████████████████████████████                                                                                                     | 548/1090 [00:20<00:24, 22.43it/s]\u001b[A\n",
      " 51%|██████████████████████████████████████████████████████████████████████████████████████████████████████▌                                                                                                    | 551/1090 [00:21<00:24, 22.15it/s]\u001b[A\n",
      " 51%|███████████████████████████████████████████████████████████████████████████████████████████████████████▏                                                                                                   | 554/1090 [00:21<00:22, 23.87it/s]\u001b[A\n",
      " 51%|███████████████████████████████████████████████████████████████████████████████████████████████████████▉                                                                                                   | 558/1090 [00:21<00:21, 24.67it/s]\u001b[A\n",
      " 51%|████████████████████████████████████████████████████████████████████████████████████████████████████████▍                                                                                                  | 561/1090 [00:21<00:24, 21.33it/s]\u001b[A\n",
      " 52%|█████████████████████████████████████████████████████████████████████████████████████████████████████████▍                                                                                                 | 566/1090 [00:21<00:19, 26.32it/s]\u001b[A\n",
      " 52%|█████████████████████████████████████████████████████████████████████████████████████████████████████████▉                                                                                                 | 569/1090 [00:21<00:19, 26.46it/s]\u001b[A\n",
      " 52%|██████████████████████████████████████████████████████████████████████████████████████████████████████████▌                                                                                                | 572/1090 [00:21<00:19, 26.85it/s]\u001b[A\n",
      " 53%|███████████████████████████████████████████████████████████████████████████████████████████████████████████                                                                                                | 575/1090 [00:22<00:20, 24.78it/s]\u001b[A\n",
      " 53%|███████████████████████████████████████████████████████████████████████████████████████████████████████████▋                                                                                               | 578/1090 [00:22<00:21, 23.85it/s]\u001b[A\n",
      " 53%|████████████████████████████████████████████████████████████████████████████████████████████████████████████▍                                                                                              | 582/1090 [00:22<00:21, 23.54it/s]\u001b[A\n",
      " 54%|████████████████████████████████████████████████████████████████████████████████████████████████████████████▉                                                                                              | 585/1090 [00:22<00:20, 24.37it/s]\u001b[A\n",
      " 54%|█████████████████████████████████████████████████████████████████████████████████████████████████████████████▋                                                                                             | 589/1090 [00:22<00:20, 24.90it/s]\u001b[A\n",
      " 55%|██████████████████████████████████████████████████████████████████████████████████████████████████████████████▊                                                                                            | 595/1090 [00:22<00:15, 31.82it/s]\u001b[A\n",
      " 55%|███████████████████████████████████████████████████████████████████████████████████████████████████████████████▌                                                                                           | 599/1090 [00:22<00:16, 30.66it/s]\u001b[A\n",
      " 55%|████████████████████████████████████████████████████████████████████████████████████████████████████████████████▍                                                                                          | 604/1090 [00:22<00:13, 34.97it/s]\u001b[A\n",
      " 56%|█████████████████████████████████████████████████████████████████████████████████████████████████████████████████▏                                                                                         | 608/1090 [00:23<00:15, 30.52it/s]\u001b[A\n",
      " 56%|█████████████████████████████████████████████████████████████████████████████████████████████████████████████████▉                                                                                         | 612/1090 [00:23<00:17, 27.64it/s]\u001b[A\n",
      " 56%|██████████████████████████████████████████████████████████████████████████████████████████████████████████████████▌                                                                                        | 615/1090 [00:23<00:19, 24.93it/s]\u001b[A\n",
      " 57%|███████████████████████████████████████████████████████████████████████████████████████████████████████████████████                                                                                        | 618/1090 [00:23<00:20, 23.57it/s]\u001b[A\n",
      " 57%|███████████████████████████████████████████████████████████████████████████████████████████████████████████████████▋                                                                                       | 621/1090 [00:23<00:19, 23.79it/s]\u001b[A\n",
      " 57%|████████████████████████████████████████████████████████████████████████████████████████████████████████████████████▍                                                                                      | 625/1090 [00:23<00:17, 26.23it/s]\u001b[A\n",
      " 58%|████████████████████████████████████████████████████████████████████████████████████████████████████████████████████▉                                                                                      | 628/1090 [00:24<00:19, 23.38it/s]\u001b[A\n",
      " 58%|██████████████████████████████████████████████████████████████████████████████████████████████████████████████████████▍                                                                                    | 636/1090 [00:24<00:13, 33.20it/s]\u001b[A\n",
      " 59%|███████████████████████████████████████████████████████████████████████████████████████████████████████████████████████▏                                                                                   | 640/1090 [00:24<00:13, 33.69it/s]\u001b[A\n",
      " 59%|███████████████████████████████████████████████████████████████████████████████████████████████████████████████████████▉                                                                                   | 644/1090 [00:24<00:18, 24.56it/s]\u001b[A\n",
      " 59%|████████████████████████████████████████████████████████████████████████████████████████████████████████████████████████▋                                                                                  | 648/1090 [00:24<00:16, 27.26it/s]\u001b[A\n",
      " 60%|█████████████████████████████████████████████████████████████████████████████████████████████████████████████████████████▍                                                                                 | 652/1090 [00:24<00:15, 27.66it/s]\u001b[A\n",
      " 60%|██████████████████████████████████████████████████████████████████████████████████████████████████████████████████████████▏                                                                                | 656/1090 [00:25<00:17, 24.69it/s]\u001b[A\n",
      " 60%|██████████████████████████████████████████████████████████████████████████████████████████████████████████████████████████▋                                                                                | 659/1090 [00:25<00:17, 24.79it/s]\u001b[A\n",
      " 61%|███████████████████████████████████████████████████████████████████████████████████████████████████████████████████████████▋                                                                               | 664/1090 [00:25<00:14, 29.99it/s]\u001b[A\n",
      " 61%|████████████████████████████████████████████████████████████████████████████████████████████████████████████████████████████▍                                                                              | 668/1090 [00:25<00:13, 30.23it/s]\u001b[A\n",
      " 62%|█████████████████████████████████████████████████████████████████████████████████████████████████████████████████████████████▏                                                                             | 672/1090 [00:25<00:13, 31.01it/s]\u001b[A\n",
      " 62%|█████████████████████████████████████████████████████████████████████████████████████████████████████████████████████████████▉                                                                             | 676/1090 [00:25<00:12, 32.59it/s]\u001b[A\n",
      " 62%|██████████████████████████████████████████████████████████████████████████████████████████████████████████████████████████████▋                                                                            | 680/1090 [00:25<00:14, 29.21it/s]\u001b[A\n",
      " 63%|███████████████████████████████████████████████████████████████████████████████████████████████████████████████████████████████▍                                                                           | 684/1090 [00:25<00:13, 29.28it/s]\u001b[A\n",
      " 63%|████████████████████████████████████████████████████████████████████████████████████████████████████████████████████████████████▏                                                                          | 688/1090 [00:26<00:16, 24.66it/s]\u001b[A\n",
      " 63%|████████████████████████████████████████████████████████████████████████████████████████████████████████████████████████████████▋                                                                          | 691/1090 [00:26<00:16, 23.86it/s]\u001b[A\n",
      " 64%|█████████████████████████████████████████████████████████████████████████████████████████████████████████████████████████████████▏                                                                         | 694/1090 [00:26<00:17, 22.72it/s]\u001b[A\n",
      " 64%|█████████████████████████████████████████████████████████████████████████████████████████████████████████████████████████████████▉                                                                         | 698/1090 [00:26<00:15, 25.27it/s]\u001b[A\n",
      " 64%|██████████████████████████████████████████████████████████████████████████████████████████████████████████████████████████████████▌                                                                        | 701/1090 [00:26<00:16, 23.72it/s]\u001b[A\n",
      " 65%|███████████████████████████████████████████████████████████████████████████████████████████████████████████████████████████████████                                                                        | 704/1090 [00:26<00:17, 22.51it/s]\u001b[A\n",
      " 65%|███████████████████████████████████████████████████████████████████████████████████████████████████████████████████████████████████▊                                                                       | 708/1090 [00:26<00:14, 25.66it/s]\u001b[A\n",
      " 66%|████████████████████████████████████████████████████████████████████████████████████████████████████████████████████████████████████▉                                                                      | 714/1090 [00:27<00:12, 30.01it/s]\u001b[A\n",
      " 66%|█████████████████████████████████████████████████████████████████████████████████████████████████████████████████████████████████████▋                                                                     | 718/1090 [00:27<00:11, 31.71it/s]\u001b[A\n",
      " 66%|██████████████████████████████████████████████████████████████████████████████████████████████████████████████████████████████████████▍                                                                    | 722/1090 [00:27<00:14, 26.06it/s]\u001b[A\n",
      " 67%|███████████████████████████████████████████████████████████████████████████████████████████████████████████████████████████████████████                                                                    | 725/1090 [00:27<00:14, 25.03it/s]\u001b[A\n",
      " 67%|███████████████████████████████████████████████████████████████████████████████████████████████████████████████████████████████████████▊                                                                   | 729/1090 [00:27<00:13, 26.27it/s]\u001b[A\n",
      " 67%|████████████████████████████████████████████████████████████████████████████████████████████████████████████████████████████████████████▎                                                                  | 732/1090 [00:27<00:13, 25.62it/s]\u001b[A\n",
      " 68%|█████████████████████████████████████████████████████████████████████████████████████████████████████████████████████████████████████████                                                                  | 736/1090 [00:27<00:12, 27.83it/s]\u001b[A\n",
      " 68%|█████████████████████████████████████████████████████████████████████████████████████████████████████████████████████████████████████████▋                                                                 | 739/1090 [00:28<00:13, 26.82it/s]\u001b[A\n",
      " 68%|██████████████████████████████████████████████████████████████████████████████████████████████████████████████████████████████████████████▏                                                                | 742/1090 [00:28<00:15, 23.07it/s]\u001b[A\n",
      " 68%|██████████████████████████████████████████████████████████████████████████████████████████████████████████████████████████████████████████▋                                                                | 745/1090 [00:28<00:17, 19.74it/s]\u001b[A\n",
      " 69%|███████████████████████████████████████████████████████████████████████████████████████████████████████████████████████████████████████████▎                                                               | 748/1090 [00:28<00:17, 19.53it/s]\u001b[A\n",
      " 69%|███████████████████████████████████████████████████████████████████████████████████████████████████████████████████████████████████████████▊                                                               | 751/1090 [00:28<00:18, 18.79it/s]\u001b[A\n",
      " 69%|████████████████████████████████████████████████████████████████████████████████████████████████████████████████████████████████████████████▊                                                              | 756/1090 [00:28<00:13, 23.99it/s]\u001b[A\n",
      " 70%|█████████████████████████████████████████████████████████████████████████████████████████████████████████████████████████████████████████████▌                                                             | 760/1090 [00:29<00:12, 27.21it/s]\u001b[A\n",
      " 70%|██████████████████████████████████████████████████████████████████████████████████████████████████████████████████████████████████████████████                                                             | 763/1090 [00:29<00:12, 26.00it/s]\u001b[A\n",
      " 70%|██████████████████████████████████████████████████████████████████████████████████████████████████████████████████████████████████████████████▋                                                            | 766/1090 [00:29<00:12, 25.64it/s]\u001b[A\n",
      " 71%|███████████████████████████████████████████████████████████████████████████████████████████████████████████████████████████████████████████████▏                                                           | 769/1090 [00:29<00:12, 24.92it/s]\u001b[A\n",
      " 71%|███████████████████████████████████████████████████████████████████████████████████████████████████████████████████████████████████████████████▊                                                           | 772/1090 [00:29<00:12, 25.86it/s]\u001b[A\n",
      " 71%|████████████████████████████████████████████████████████████████████████████████████████████████████████████████████████████████████████████████▌                                                          | 776/1090 [00:29<00:12, 24.94it/s]\u001b[A\n",
      " 71%|█████████████████████████████████████████████████████████████████████████████████████████████████████████████████████████████████████████████████                                                          | 779/1090 [00:29<00:13, 22.81it/s]\u001b[A\n",
      " 72%|█████████████████████████████████████████████████████████████████████████████████████████████████████████████████████████████████████████████████▊                                                         | 783/1090 [00:29<00:12, 25.24it/s]\u001b[A\n",
      " 72%|██████████████████████████████████████████████████████████████████████████████████████████████████████████████████████████████████████████████████▌                                                        | 787/1090 [00:30<00:11, 27.17it/s]\u001b[A\n",
      " 72%|███████████████████████████████████████████████████████████████████████████████████████████████████████████████████████████████████████████████████▏                                                       | 790/1090 [00:30<00:11, 26.67it/s]\u001b[A\n",
      " 73%|███████████████████████████████████████████████████████████████████████████████████████████████████████████████████████████████████████████████████▋                                                       | 793/1090 [00:30<00:11, 25.28it/s]\u001b[A\n",
      " 73%|████████████████████████████████████████████████████████████████████████████████████████████████████████████████████████████████████████████████████▌                                                      | 798/1090 [00:30<00:10, 27.62it/s]\u001b[A\n",
      " 73%|█████████████████████████████████████████████████████████████████████████████████████████████████████████████████████████████████████████████████████▏                                                     | 801/1090 [00:30<00:10, 26.83it/s]\u001b[A\n",
      " 74%|█████████████████████████████████████████████████████████████████████████████████████████████████████████████████████████████████████████████████████▋                                                     | 804/1090 [00:30<00:13, 21.73it/s]\u001b[A\n",
      " 74%|██████████████████████████████████████████████████████████████████████████████████████████████████████████████████████████████████████████████████████▍                                                    | 808/1090 [00:30<00:11, 23.98it/s]\u001b[A\n",
      " 74%|███████████████████████████████████████████████████████████████████████████████████████████████████████████████████████████████████████████████████████▏                                                   | 812/1090 [00:31<00:11, 24.92it/s]\u001b[A\n",
      " 75%|███████████████████████████████████████████████████████████████████████████████████████████████████████████████████████████████████████████████████████▊                                                   | 815/1090 [00:31<00:10, 25.24it/s]\u001b[A\n",
      " 75%|████████████████████████████████████████████████████████████████████████████████████████████████████████████████████████████████████████████████████████▎                                                  | 818/1090 [00:31<00:11, 24.45it/s]\u001b[A\n",
      " 76%|█████████████████████████████████████████████████████████████████████████████████████████████████████████████████████████████████████████████████████████▎                                                 | 823/1090 [00:31<00:09, 29.58it/s]\u001b[A\n",
      " 76%|██████████████████████████████████████████████████████████████████████████████████████████████████████████████████████████████████████████████████████████▏                                                | 828/1090 [00:31<00:07, 33.84it/s]\u001b[A\n",
      " 76%|██████████████████████████████████████████████████████████████████████████████████████████████████████████████████████████████████████████████████████████▉                                                | 832/1090 [00:31<00:07, 32.47it/s]\u001b[A\n",
      " 77%|███████████████████████████████████████████████████████████████████████████████████████████████████████████████████████████████████████████████████████████▋                                               | 836/1090 [00:31<00:08, 31.46it/s]\u001b[A\n",
      " 77%|████████████████████████████████████████████████████████████████████████████████████████████████████████████████████████████████████████████████████████████▍                                              | 840/1090 [00:31<00:07, 32.90it/s]\u001b[A\n",
      " 77%|█████████████████████████████████████████████████████████████████████████████████████████████████████████████████████████████████████████████████████████████▏                                             | 844/1090 [00:32<00:09, 25.85it/s]\u001b[A\n",
      " 78%|█████████████████████████████████████████████████████████████████████████████████████████████████████████████████████████████████████████████████████████████▋                                             | 847/1090 [00:32<00:10, 22.86it/s]\u001b[A\n",
      " 78%|██████████████████████████████████████████████████████████████████████████████████████████████████████████████████████████████████████████████████████████████▍                                            | 851/1090 [00:32<00:09, 26.12it/s]\u001b[A\n",
      " 78%|███████████████████████████████████████████████████████████████████████████████████████████████████████████████████████████████████████████████████████████████▏                                           | 855/1090 [00:32<00:08, 29.20it/s]\u001b[A\n",
      " 79%|███████████████████████████████████████████████████████████████████████████████████████████████████████████████████████████████████████████████████████████████▉                                           | 859/1090 [00:32<00:07, 29.05it/s]\u001b[A\n",
      " 79%|████████████████████████████████████████████████████████████████████████████████████████████████████████████████████████████████████████████████████████████████▋                                          | 863/1090 [00:32<00:07, 31.08it/s]\u001b[A\n",
      " 80%|█████████████████████████████████████████████████████████████████████████████████████████████████████████████████████████████████████████████████████████████████▍                                         | 867/1090 [00:33<00:08, 26.51it/s]\u001b[A\n",
      " 80%|██████████████████████████████████████████████████████████████████████████████████████████████████████████████████████████████████████████████████████████████████                                         | 870/1090 [00:33<00:09, 24.14it/s]\u001b[A\n",
      " 80%|██████████████████████████████████████████████████████████████████████████████████████████████████████████████████████████████████████████████████████████████████▌                                        | 873/1090 [00:33<00:09, 22.53it/s]\u001b[A\n",
      " 80%|███████████████████████████████████████████████████████████████████████████████████████████████████████████████████████████████████████████████████████████████████▏                                       | 876/1090 [00:33<00:09, 21.53it/s]\u001b[A\n",
      " 81%|████████████████████████████████████████████████████████████████████████████████████████████████████████████████████████████████████████████████████████████████████                                       | 881/1090 [00:33<00:08, 25.07it/s]\u001b[A\n",
      " 81%|████████████████████████████████████████████████████████████████████████████████████████████████████████████████████████████████████████████████████████████████████▊                                      | 885/1090 [00:33<00:07, 26.15it/s]\u001b[A\n",
      " 82%|█████████████████████████████████████████████████████████████████████████████████████████████████████████████████████████████████████████████████████████████████████▌                                     | 889/1090 [00:33<00:06, 28.85it/s]\u001b[A\n",
      " 82%|██████████████████████████████████████████████████████████████████████████████████████████████████████████████████████████████████████████████████████████████████████▎                                    | 893/1090 [00:34<00:07, 26.08it/s]\u001b[A\n",
      " 82%|███████████████████████████████████████████████████████████████████████████████████████████████████████████████████████████████████████████████████████████████████████                                    | 897/1090 [00:34<00:06, 28.51it/s]\u001b[A\n",
      " 83%|███████████████████████████████████████████████████████████████████████████████████████████████████████████████████████████████████████████████████████████████████████▊                                   | 901/1090 [00:34<00:06, 27.04it/s]\u001b[A\n",
      " 83%|████████████████████████████████████████████████████████████████████████████████████████████████████████████████████████████████████████████████████████████████████████▎                                  | 904/1090 [00:34<00:07, 24.30it/s]\u001b[A\n",
      " 83%|████████████████████████████████████████████████████████████████████████████████████████████████████████████████████████████████████████████████████████████████████████▉                                  | 907/1090 [00:34<00:07, 24.55it/s]\u001b[A\n",
      " 83%|█████████████████████████████████████████████████████████████████████████████████████████████████████████████████████████████████████████████████████████████████████████▍                                 | 910/1090 [00:34<00:07, 25.05it/s]\u001b[A\n",
      " 84%|██████████████████████████████████████████████████████████████████████████████████████████████████████████████████████████████████████████████████████████████████████████                                 | 913/1090 [00:34<00:08, 21.21it/s]\u001b[A\n",
      " 84%|██████████████████████████████████████████████████████████████████████████████████████████████████████████████████████████████████████████████████████████████████████████▌                                | 916/1090 [00:35<00:07, 21.90it/s]\u001b[A\n",
      " 84%|███████████████████████████████████████████████████████████████████████████████████████████████████████████████████████████████████████████████████████████████████████████▏                               | 919/1090 [00:35<00:08, 21.06it/s]\u001b[A\n",
      " 85%|███████████████████████████████████████████████████████████████████████████████████████████████████████████████████████████████████████████████████████████████████████████▋                               | 922/1090 [00:35<00:07, 21.03it/s]\u001b[A\n",
      " 85%|████████████████████████████████████████████████████████████████████████████████████████████████████████████████████████████████████████████████████████████████████████████▎                              | 925/1090 [00:35<00:08, 19.30it/s]\u001b[A\n",
      " 85%|████████████████████████████████████████████████████████████████████████████████████████████████████████████████████████████████████████████████████████████████████████████▊                              | 928/1090 [00:35<00:07, 20.52it/s]\u001b[A\n",
      " 85%|█████████████████████████████████████████████████████████████████████████████████████████████████████████████████████████████████████████████████████████████████████████████▍                             | 931/1090 [00:35<00:07, 20.28it/s]\u001b[A\n",
      " 86%|█████████████████████████████████████████████████████████████████████████████████████████████████████████████████████████████████████████████████████████████████████████████▉                             | 934/1090 [00:35<00:08, 19.31it/s]\u001b[A\n",
      " 86%|██████████████████████████████████████████████████████████████████████████████████████████████████████████████████████████████████████████████████████████████████████████████▎                            | 936/1090 [00:36<00:07, 19.38it/s]\u001b[A\n",
      " 86%|██████████████████████████████████████████████████████████████████████████████████████████████████████████████████████████████████████████████████████████████████████████████▋                            | 938/1090 [00:36<00:07, 19.36it/s]\u001b[A\n",
      " 86%|███████████████████████████████████████████████████████████████████████████████████████████████████████████████████████████████████████████████████████████████████████████████▎                           | 941/1090 [00:36<00:07, 20.88it/s]\u001b[A\n",
      " 87%|███████████████████████████████████████████████████████████████████████████████████████████████████████████████████████████████████████████████████████████████████████████████▊                           | 944/1090 [00:36<00:06, 22.32it/s]\u001b[A\n",
      " 87%|████████████████████████████████████████████████████████████████████████████████████████████████████████████████████████████████████████████████████████████████████████████████▎                          | 947/1090 [00:36<00:06, 20.54it/s]\u001b[A\n",
      " 87%|████████████████████████████████████████████████████████████████████████████████████████████████████████████████████████████████████████████████████████████████████████████████▉                          | 950/1090 [00:36<00:07, 18.95it/s]\u001b[A\n",
      " 87%|█████████████████████████████████████████████████████████████████████████████████████████████████████████████████████████████████████████████████████████████████████████████████▎                         | 952/1090 [00:36<00:07, 18.34it/s]\u001b[A\n",
      " 88%|██████████████████████████████████████████████████████████████████████████████████████████████████████████████████████████████████████████████████████████████████████████████████▍                        | 958/1090 [00:37<00:04, 27.75it/s]\u001b[A\n",
      " 88%|███████████████████████████████████████████████████████████████████████████████████████████████████████████████████████████████████████████████████████████████████████████████████▏                       | 962/1090 [00:37<00:05, 22.13it/s]\u001b[A\n",
      " 89%|███████████████████████████████████████████████████████████████████████████████████████████████████████████████████████████████████████████████████████████████████████████████████▋                       | 965/1090 [00:37<00:05, 21.91it/s]\u001b[A\n",
      " 89%|████████████████████████████████████████████████████████████████████████████████████████████████████████████████████████████████████████████████████████████████████████████████████▋                      | 970/1090 [00:37<00:04, 24.23it/s]\u001b[A\n",
      " 89%|█████████████████████████████████████████████████████████████████████████████████████████████████████████████████████████████████████████████████████████████████████████████████████▍                     | 974/1090 [00:37<00:04, 26.88it/s]\u001b[A\n",
      " 90%|█████████████████████████████████████████████████████████████████████████████████████████████████████████████████████████████████████████████████████████████████████████████████████▉                     | 977/1090 [00:37<00:04, 26.38it/s]\u001b[A\n",
      " 90%|██████████████████████████████████████████████████████████████████████████████████████████████████████████████████████████████████████████████████████████████████████████████████████▉                    | 982/1090 [00:37<00:03, 29.93it/s]\u001b[A\n",
      " 91%|████████████████████████████████████████████████████████████████████████████████████████████████████████████████████████████████████████████████████████████████████████████████████████                   | 988/1090 [00:38<00:03, 32.81it/s]\u001b[A\n",
      " 91%|████████████████████████████████████████████████████████████████████████████████████████████████████████████████████████████████████████████████████████████████████████████████████████▉                  | 993/1090 [00:38<00:02, 33.49it/s]\u001b[A\n",
      " 91%|█████████████████████████████████████████████████████████████████████████████████████████████████████████████████████████████████████████████████████████████████████████████████████████▋                 | 997/1090 [00:38<00:03, 28.00it/s]\u001b[A\n",
      " 92%|██████████████████████████████████████████████████████████████████████████████████████████████████████████████████████████████████████████████████████████████████████████████████████████▏               | 1005/1090 [00:38<00:02, 37.80it/s]\u001b[A\n",
      " 93%|███████████████████████████████████████████████████████████████████████████████████████████████████████████████████████████████████████████████████████████████████████████████████████████▏              | 1010/1090 [00:38<00:02, 33.34it/s]\u001b[A\n",
      " 93%|███████████████████████████████████████████████████████████████████████████████████████████████████████████████████████████████████████████████████████████████████████████████████████████▉              | 1014/1090 [00:38<00:02, 33.11it/s]\u001b[A\n",
      " 93%|████████████████████████████████████████████████████████████████████████████████████████████████████████████████████████████████████████████████████████████████████████████████████████████▊             | 1019/1090 [00:39<00:02, 35.35it/s]\u001b[A\n",
      " 94%|█████████████████████████████████████████████████████████████████████████████████████████████████████████████████████████████████████████████████████████████████████████████████████████████▌            | 1023/1090 [00:39<00:02, 31.70it/s]\u001b[A\n",
      " 94%|██████████████████████████████████████████████████████████████████████████████████████████████████████████████████████████████████████████████████████████████████████████████████████████████▎           | 1027/1090 [00:39<00:02, 30.32it/s]\u001b[A\n",
      " 95%|███████████████████████████████████████████████████████████████████████████████████████████████████████████████████████████████████████████████████████████████████████████████████████████████           | 1031/1090 [00:39<00:02, 27.14it/s]\u001b[A\n",
      " 95%|███████████████████████████████████████████████████████████████████████████████████████████████████████████████████████████████████████████████████████████████████████████████████████████████▊          | 1035/1090 [00:39<00:02, 26.11it/s]\u001b[A\n",
      " 95%|████████████████████████████████████████████████████████████████████████████████████████████████████████████████████████████████████████████████████████████████████████████████████████████████▎         | 1038/1090 [00:39<00:02, 23.83it/s]\u001b[A\n",
      " 96%|█████████████████████████████████████████████████████████████████████████████████████████████████████████████████████████████████████████████████████████████████████████████████████████████████▍        | 1044/1090 [00:39<00:01, 30.25it/s]\u001b[A\n",
      " 96%|██████████████████████████████████████████████████████████████████████████████████████████████████████████████████████████████████████████████████████████████████████████████████████████████████▏       | 1048/1090 [00:40<00:01, 27.36it/s]\u001b[A\n",
      " 96%|██████████████████████████████████████████████████████████████████████████████████████████████████████████████████████████████████████████████████████████████████████████████████████████████████▊       | 1051/1090 [00:40<00:01, 25.21it/s]\u001b[A\n",
      " 97%|███████████████████████████████████████████████████████████████████████████████████████████████████████████████████████████████████████████████████████████████████████████████████████████████████▎      | 1054/1090 [00:40<00:01, 23.96it/s]\u001b[A\n",
      " 97%|████████████████████████████████████████████████████████████████████████████████████████████████████████████████████████████████████████████████████████████████████████████████████████████████████      | 1058/1090 [00:40<00:01, 27.01it/s]\u001b[A\n",
      " 97%|████████████████████████████████████████████████████████████████████████████████████████████████████████████████████████████████████████████████████████████████████████████████████████████████████▋     | 1061/1090 [00:40<00:01, 24.25it/s]\u001b[A\n",
      " 98%|█████████████████████████████████████████████████████████████████████████████████████████████████████████████████████████████████████████████████████████████████████████████████████████████████████▏    | 1064/1090 [00:40<00:01, 22.34it/s]\u001b[A\n",
      " 98%|█████████████████████████████████████████████████████████████████████████████████████████████████████████████████████████████████████████████████████████████████████████████████████████████████████▉    | 1068/1090 [00:41<00:00, 22.36it/s]\u001b[A\n",
      " 98%|██████████████████████████████████████████████████████████████████████████████████████████████████████████████████████████████████████████████████████████████████████████████████████████████████████▍   | 1071/1090 [00:41<00:00, 22.40it/s]\u001b[A\n",
      " 99%|███████████████████████████████████████████████████████████████████████████████████████████████████████████████████████████████████████████████████████████████████████████████████████████████████████▏  | 1075/1090 [00:41<00:00, 26.03it/s]\u001b[A\n",
      " 99%|███████████████████████████████████████████████████████████████████████████████████████████████████████████████████████████████████████████████████████████████████████████████████████████████████████▉  | 1079/1090 [00:41<00:00, 28.72it/s]\u001b[A\n",
      " 99%|████████████████████████████████████████████████████████████████████████████████████████████████████████████████████████████████████████████████████████████████████████████████████████████████████████▋ | 1083/1090 [00:41<00:00, 30.41it/s]\u001b[A\n",
      "100%|██████████████████████████████████████████████████████████████████████████████████████████████████████████████████████████████████████████████████████████████████████████████████████████████████████████| 1090/1090 [00:41<00:00, 26.16it/s]\u001b[A\n",
      "Partitioning splits: 100%|███████████████████████████████████████████████████████████████████████████████████████████████████████████████████████████████████████████████████████████████████████████████████████████| 3/3 [03:19<00:00, 66.58s/it]\n"
     ]
    }
   ],
   "source": [
    "import polars as pl\n",
    "from tqdm import tqdm\n",
    "import os\n",
    "\n",
    "\n",
    "for split, dataset in tqdm(ds_nonpatches.items(), total=len(ds_nonpatches), desc=\"Partitioning splits\"):\n",
    "    # Convert to Polars DataFrame\n",
    "    df = dataset.to_polars()\n",
    "    groups = df.group_by([\"owner\", \"repo\"])\n",
    "    num_groups = groups.len().shape[0]\n",
    "    \n",
    "    for name, data in tqdm(groups, total=num_groups):\n",
    "        safe_name = \"_\".join(name)\n",
    "        output_path = f\"tmp/owner_repo_groups/{split}\"\n",
    "        os.makedirs(output_path, exist_ok=True)\n",
    "        data.write_parquet(os.path.join(output_path, f\"{safe_name}.parquet\"))"
   ]
  },
  {
   "cell_type": "code",
   "execution_count": 19,
   "id": "8326f711-d34b-41ee-83a1-e9fe834ee0a9",
   "metadata": {},
   "outputs": [
    {
     "name": "stdout",
     "output_type": "stream",
     "text": [
      "DONE\n"
     ]
    }
   ],
   "source": [
    "print(\"DONE\")"
   ]
  },
  {
   "cell_type": "code",
   "execution_count": null,
   "id": "94d56249-c6d8-47f0-87e6-7d10974f2077",
   "metadata": {},
   "outputs": [],
   "source": []
  }
 ],
 "metadata": {
  "kernelspec": {
   "display_name": "Python 3 (ipykernel)",
   "language": "python",
   "name": "python3"
  },
  "language_info": {
   "codemirror_mode": {
    "name": "ipython",
    "version": 3
   },
   "file_extension": ".py",
   "mimetype": "text/x-python",
   "name": "python",
   "nbconvert_exporter": "python",
   "pygments_lexer": "ipython3",
   "version": "3.12.3"
  }
 },
 "nbformat": 4,
 "nbformat_minor": 5
}
